{
 "cells": [
  {
   "cell_type": "code",
   "execution_count": 1,
   "metadata": {},
   "outputs": [],
   "source": [
    "import time\n",
    "import sys\n",
    "import logging\n",
    "import numpy as np\n",
    "import pandas as pd\n",
    "import os\n",
    "import tensorflow as tf\n",
    "from ast import literal_eval\n",
    "import tqdm\n",
    "from ner_model import NERModel\n",
    "from model.config import Config\n",
    "from model.data_utils import load_dataset\n",
    "from collections import Counter"
   ]
  },
  {
   "cell_type": "code",
   "execution_count": 2,
   "metadata": {},
   "outputs": [
    {
     "name": "stderr",
     "output_type": "stream",
     "text": [
      "Initializing tf session\n"
     ]
    }
   ],
   "source": [
    "config = Config()\n",
    "model = NERModel(config)\n",
    "model.build()"
   ]
  },
  {
   "cell_type": "code",
   "execution_count": 3,
   "metadata": {},
   "outputs": [
    {
     "name": "stderr",
     "output_type": "stream",
     "text": [
      "Reloading the latest trained model...\n"
     ]
    },
    {
     "name": "stdout",
     "output_type": "stream",
     "text": [
      "INFO:tensorflow:Restoring parameters from results/large_lstm_test/model.weights/\n"
     ]
    },
    {
     "name": "stderr",
     "output_type": "stream",
     "text": [
      "Restoring parameters from results/large_lstm_test/model.weights/\n"
     ]
    }
   ],
   "source": [
    "model.restore_session(config.dir_model)"
   ]
  },
  {
   "cell_type": "code",
   "execution_count": 4,
   "metadata": {},
   "outputs": [
    {
     "name": "stderr",
     "output_type": "stream",
     "text": [
      "9980it [03:38, 65.82it/s]                          \n"
     ]
    },
    {
     "name": "stdout",
     "output_type": "stream",
     "text": [
      "Submission is saved\n"
     ]
    }
   ],
   "source": [
    "test = model.create_submission()"
   ]
  },
  {
   "cell_type": "code",
   "execution_count": 27,
   "metadata": {},
   "outputs": [],
   "source": [
    "test = pd.read_csv(model.config.path_to_test)"
   ]
  },
  {
   "cell_type": "code",
   "execution_count": 28,
   "metadata": {},
   "outputs": [
    {
     "data": {
      "text/plain": [
       "9795"
      ]
     },
     "execution_count": 28,
     "metadata": {},
     "output_type": "execute_result"
    }
   ],
   "source": [
    "len(test)"
   ]
  },
  {
   "cell_type": "code",
   "execution_count": 9,
   "metadata": {},
   "outputs": [
    {
     "data": {
      "text/html": [
       "<div>\n",
       "<style scoped>\n",
       "    .dataframe tbody tr th:only-of-type {\n",
       "        vertical-align: middle;\n",
       "    }\n",
       "\n",
       "    .dataframe tbody tr th {\n",
       "        vertical-align: top;\n",
       "    }\n",
       "\n",
       "    .dataframe thead th {\n",
       "        text-align: right;\n",
       "    }\n",
       "</style>\n",
       "<table border=\"1\" class=\"dataframe\">\n",
       "  <thead>\n",
       "    <tr style=\"text-align: right;\">\n",
       "      <th></th>\n",
       "      <th>context_id</th>\n",
       "      <th>context_2</th>\n",
       "      <th>context_1</th>\n",
       "      <th>context_0</th>\n",
       "      <th>reply_id</th>\n",
       "      <th>reply</th>\n",
       "      <th>merged_contexts</th>\n",
       "      <th>contexts_and_reply</th>\n",
       "    </tr>\n",
       "  </thead>\n",
       "  <tbody>\n",
       "    <tr>\n",
       "      <th>0</th>\n",
       "      <td>138920940977</td>\n",
       "      <td>[24350, 7323, 21487, 19771, 15667, 7323, 27441...</td>\n",
       "      <td>[39653, 22909, 10226]</td>\n",
       "      <td>[25647]</td>\n",
       "      <td>0</td>\n",
       "      <td>[1292, 30318]</td>\n",
       "      <td>[24350, 7323, 21487, 19771, 15667, 7323, 27441...</td>\n",
       "      <td>[24350, 7323, 21487, 19771, 15667, 7323, 27441...</td>\n",
       "    </tr>\n",
       "    <tr>\n",
       "      <th>1</th>\n",
       "      <td>138920940977</td>\n",
       "      <td>[24350, 7323, 21487, 19771, 15667, 7323, 27441...</td>\n",
       "      <td>[39653, 22909, 10226]</td>\n",
       "      <td>[25647]</td>\n",
       "      <td>1</td>\n",
       "      <td>[25647, 7323, 39653, 21278, 30318]</td>\n",
       "      <td>[24350, 7323, 21487, 19771, 15667, 7323, 27441...</td>\n",
       "      <td>[24350, 7323, 21487, 19771, 15667, 7323, 27441...</td>\n",
       "    </tr>\n",
       "    <tr>\n",
       "      <th>2</th>\n",
       "      <td>138920940977</td>\n",
       "      <td>[24350, 7323, 21487, 19771, 15667, 7323, 27441...</td>\n",
       "      <td>[39653, 22909, 10226]</td>\n",
       "      <td>[25647]</td>\n",
       "      <td>2</td>\n",
       "      <td>[25647, 30318]</td>\n",
       "      <td>[24350, 7323, 21487, 19771, 15667, 7323, 27441...</td>\n",
       "      <td>[24350, 7323, 21487, 19771, 15667, 7323, 27441...</td>\n",
       "    </tr>\n",
       "    <tr>\n",
       "      <th>3</th>\n",
       "      <td>138920940977</td>\n",
       "      <td>[24350, 7323, 21487, 19771, 15667, 7323, 27441...</td>\n",
       "      <td>[39653, 22909, 10226]</td>\n",
       "      <td>[25647]</td>\n",
       "      <td>3</td>\n",
       "      <td>[34555, 7323, 25647, 30318]</td>\n",
       "      <td>[24350, 7323, 21487, 19771, 15667, 7323, 27441...</td>\n",
       "      <td>[24350, 7323, 21487, 19771, 15667, 7323, 27441...</td>\n",
       "    </tr>\n",
       "    <tr>\n",
       "      <th>4</th>\n",
       "      <td>138920940977</td>\n",
       "      <td>[24350, 7323, 21487, 19771, 15667, 7323, 27441...</td>\n",
       "      <td>[39653, 22909, 10226]</td>\n",
       "      <td>[25647]</td>\n",
       "      <td>4</td>\n",
       "      <td>[24734, 7323, 25647, 30318]</td>\n",
       "      <td>[24350, 7323, 21487, 19771, 15667, 7323, 27441...</td>\n",
       "      <td>[24350, 7323, 21487, 19771, 15667, 7323, 27441...</td>\n",
       "    </tr>\n",
       "  </tbody>\n",
       "</table>\n",
       "</div>"
      ],
      "text/plain": [
       "     context_id                                          context_2  \\\n",
       "0  138920940977  [24350, 7323, 21487, 19771, 15667, 7323, 27441...   \n",
       "1  138920940977  [24350, 7323, 21487, 19771, 15667, 7323, 27441...   \n",
       "2  138920940977  [24350, 7323, 21487, 19771, 15667, 7323, 27441...   \n",
       "3  138920940977  [24350, 7323, 21487, 19771, 15667, 7323, 27441...   \n",
       "4  138920940977  [24350, 7323, 21487, 19771, 15667, 7323, 27441...   \n",
       "\n",
       "               context_1 context_0  reply_id  \\\n",
       "0  [39653, 22909, 10226]   [25647]         0   \n",
       "1  [39653, 22909, 10226]   [25647]         1   \n",
       "2  [39653, 22909, 10226]   [25647]         2   \n",
       "3  [39653, 22909, 10226]   [25647]         3   \n",
       "4  [39653, 22909, 10226]   [25647]         4   \n",
       "\n",
       "                                reply  \\\n",
       "0                       [1292, 30318]   \n",
       "1  [25647, 7323, 39653, 21278, 30318]   \n",
       "2                      [25647, 30318]   \n",
       "3         [34555, 7323, 25647, 30318]   \n",
       "4         [24734, 7323, 25647, 30318]   \n",
       "\n",
       "                                     merged_contexts  \\\n",
       "0  [24350, 7323, 21487, 19771, 15667, 7323, 27441...   \n",
       "1  [24350, 7323, 21487, 19771, 15667, 7323, 27441...   \n",
       "2  [24350, 7323, 21487, 19771, 15667, 7323, 27441...   \n",
       "3  [24350, 7323, 21487, 19771, 15667, 7323, 27441...   \n",
       "4  [24350, 7323, 21487, 19771, 15667, 7323, 27441...   \n",
       "\n",
       "                                  contexts_and_reply  \n",
       "0  [24350, 7323, 21487, 19771, 15667, 7323, 27441...  \n",
       "1  [24350, 7323, 21487, 19771, 15667, 7323, 27441...  \n",
       "2  [24350, 7323, 21487, 19771, 15667, 7323, 27441...  \n",
       "3  [24350, 7323, 21487, 19771, 15667, 7323, 27441...  \n",
       "4  [24350, 7323, 21487, 19771, 15667, 7323, 27441...  "
      ]
     },
     "execution_count": 9,
     "metadata": {},
     "output_type": "execute_result"
    }
   ],
   "source": [
    "test.head()"
   ]
  },
  {
   "cell_type": "code",
   "execution_count": 10,
   "metadata": {},
   "outputs": [
    {
     "data": {
      "text/plain": [
       "(9968, 8)"
      ]
     },
     "execution_count": 10,
     "metadata": {},
     "output_type": "execute_result"
    }
   ],
   "source": [
    "test.shape"
   ]
  },
  {
   "cell_type": "code",
   "execution_count": null,
   "metadata": {},
   "outputs": [],
   "source": [
    "Counter(test.predicted)"
   ]
  },
  {
   "cell_type": "code",
   "execution_count": 13,
   "metadata": {},
   "outputs": [],
   "source": [
    "x = pd.read_csv(\"../submission.csv\", sep=' ', header=-1)"
   ]
  },
  {
   "cell_type": "code",
   "execution_count": 17,
   "metadata": {},
   "outputs": [
    {
     "data": {
      "text/plain": [
       "0     138920940977\n",
       "1     138920940977\n",
       "2     138920940977\n",
       "3     138920940977\n",
       "4     138920940977\n",
       "5     138920940977\n",
       "6     178951117610\n",
       "7     178951117610\n",
       "8     178951117610\n",
       "9     178951117610\n",
       "10    178951117610\n",
       "11    178951117610\n",
       "12    281631344938\n",
       "13    281631344938\n",
       "14    281631344938\n",
       "15    281631344938\n",
       "16    281631344938\n",
       "17    281631344938\n",
       "18    303514034521\n",
       "19    303514034521\n",
       "Name: context_id, dtype: int64"
      ]
     },
     "execution_count": 17,
     "metadata": {},
     "output_type": "execute_result"
    }
   ],
   "source": [
    "test.context_id.head(20)"
   ]
  },
  {
   "cell_type": "code",
   "execution_count": 18,
   "metadata": {},
   "outputs": [
    {
     "data": {
      "text/plain": [
       "False"
      ]
     },
     "execution_count": 18,
     "metadata": {},
     "output_type": "execute_result"
    }
   ],
   "source": [
    "138920940978 in test.context_id"
   ]
  },
  {
   "cell_type": "code",
   "execution_count": 20,
   "metadata": {},
   "outputs": [],
   "source": [
    "x.loc[0, 0] = 138920940977"
   ]
  },
  {
   "cell_type": "code",
   "execution_count": 23,
   "metadata": {},
   "outputs": [
    {
     "data": {
      "text/plain": [
       "array([   138920940977,    138920940977,    138920940977, ...,\n",
       "       281005785254216, 281005785254216, 281005785254216])"
      ]
     },
     "execution_count": 23,
     "metadata": {},
     "output_type": "execute_result"
    }
   ],
   "source": [
    "x.loc[:, 0].values"
   ]
  },
  {
   "cell_type": "code",
   "execution_count": 24,
   "metadata": {},
   "outputs": [
    {
     "data": {
      "text/plain": [
       "array([   138920940977,    138920940977,    138920940977, ...,\n",
       "       281005785254216, 281005785254216, 281005785254216])"
      ]
     },
     "execution_count": 24,
     "metadata": {},
     "output_type": "execute_result"
    }
   ],
   "source": [
    "test.context_id.values"
   ]
  },
  {
   "cell_type": "code",
   "execution_count": 26,
   "metadata": {},
   "outputs": [
    {
     "data": {
      "text/plain": [
       "True"
      ]
     },
     "execution_count": 26,
     "metadata": {},
     "output_type": "execute_result"
    }
   ],
   "source": [
    "all(x.loc[:, 0].values == test.context_id.values)"
   ]
  },
  {
   "cell_type": "code",
   "execution_count": 6,
   "metadata": {},
   "outputs": [],
   "source": [
    "l = sum(1 for x in open())"
   ]
  },
  {
   "cell_type": "code",
   "execution_count": 7,
   "metadata": {},
   "outputs": [
    {
     "data": {
      "text/plain": [
       "9968"
      ]
     },
     "execution_count": 7,
     "metadata": {},
     "output_type": "execute_result"
    }
   ],
   "source": [
    "l"
   ]
  },
  {
   "cell_type": "code",
   "execution_count": null,
   "metadata": {},
   "outputs": [],
   "source": []
  }
 ],
 "metadata": {
  "kernelspec": {
   "display_name": "tensorflow",
   "language": "python",
   "name": "tensorflow"
  },
  "language_info": {
   "codemirror_mode": {
    "name": "ipython",
    "version": 3
   },
   "file_extension": ".py",
   "mimetype": "text/x-python",
   "name": "python",
   "nbconvert_exporter": "python",
   "pygments_lexer": "ipython3",
   "version": "3.5.2"
  }
 },
 "nbformat": 4,
 "nbformat_minor": 2
}
