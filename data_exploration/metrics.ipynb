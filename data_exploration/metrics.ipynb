{
 "cells": [
  {
   "cell_type": "code",
   "execution_count": 3,
   "metadata": {},
   "outputs": [],
   "source": [
    "import numpy as np\n",
    "import numpy as np\n",
    "from sklearn.preprocessing import OneHotEncoder\n",
    "import tensorflow as tf\n",
    "import pandas as pd\n",
    "from collections import Counter\n",
    "from ast import literal_eval"
   ]
  },
  {
   "cell_type": "code",
   "execution_count": 4,
   "metadata": {},
   "outputs": [],
   "source": [
    "PATH_TO_TRAIN = \"../../data/train_splitted.csv\"\n",
    "PATH_TO_TEST = \"../../data/test_splitted.csv\"\n",
    "PATH_TO_VAL = \"../../data/val_splitted.csv\""
   ]
  },
  {
   "cell_type": "code",
   "execution_count": 181,
   "metadata": {},
   "outputs": [],
   "source": [
    "\"\"\" Reference from https://gist.github.com/bwhite/3726239\n",
    "\"\"\"\n",
    "\n",
    "import numpy as np\n",
    "\n",
    "def dcg_at_k(r, k, method=0):\n",
    "    \"\"\"Score is discounted cumulative gain (dcg)\n",
    "    Relevance is positive real values.  Can use binary\n",
    "    as the previous methods.\n",
    "    Example from\n",
    "    http://www.stanford.edu/class/cs276/handouts/EvaluationNew-handout-6-per.pdf\n",
    "    >>> r = [3, 2, 3, 0, 0, 1, 2, 2, 3, 0]\n",
    "    >>> dcg_at_k(r, 1)\n",
    "    3.0\n",
    "    >>> dcg_at_k(r, 1, method=1)\n",
    "    3.0\n",
    "    >>> dcg_at_k(r, 2)\n",
    "    5.0\n",
    "    >>> dcg_at_k(r, 2, method=1)\n",
    "    4.2618595071429155\n",
    "    >>> dcg_at_k(r, 10)\n",
    "    9.6051177391888114\n",
    "    >>> dcg_at_k(r, 11)\n",
    "    9.6051177391888114\n",
    "    Args:\n",
    "        r: Relevance scores (list or numpy) in rank order\n",
    "            (first element is the first item)\n",
    "        k: Number of results to consider\n",
    "        method: If 0 then weights are [1.0, 1.0, 0.6309, 0.5, 0.4307, ...]\n",
    "                If 1 then weights are [1.0, 0.6309, 0.5, 0.4307, ...]\n",
    "    Returns:\n",
    "        Discounted cumulative gain\n",
    "    \"\"\"\n",
    "    r = np.asfarray(r)[:k]\n",
    "    if r.size:\n",
    "        if method == 0:\n",
    "            return r[0] + np.sum(r[1:] / np.log2(np.arange(2, r.size + 1)))\n",
    "        elif method == 1:\n",
    "            return np.sum(r / np.log2(np.arange(2, r.size + 2)))\n",
    "        else:\n",
    "            raise ValueError('method must be 0 or 1.')\n",
    "    return 0.\n",
    "\n",
    "\n",
    "def ndcg_at_k(r, correct_rankings, k, method=0):\n",
    "    \"\"\"Score is normalized discounted cumulative gain (ndcg)\n",
    "    Relevance is positive real values.  Can use binary\n",
    "    as the previous methods.\n",
    "    Example from\n",
    "    http://www.stanford.edu/class/cs276/handouts/EvaluationNew-handout-6-per.pdf\n",
    "    >>> r = [3, 2, 3, 0, 0, 1, 2, 2, 3, 0]\n",
    "    >>> ndcg_at_k(r, 1)\n",
    "    1.0\n",
    "    >>> r = [2, 1, 2, 0]\n",
    "    >>> ndcg_at_k(r, 4)\n",
    "    0.9203032077642922\n",
    "    >>> ndcg_at_k(r, 4, method=1)\n",
    "    0.96519546960144276\n",
    "    >>> ndcg_at_k([0], 1)\n",
    "    0.0\n",
    "    >>> ndcg_at_k([1], 2)\n",
    "    1.0\n",
    "    Args:\n",
    "        r: Relevance scores (list or numpy) in rank order\n",
    "            (first element is the first item)\n",
    "        k: Number of results to consider\n",
    "        method: If 0 then weights are [1.0, 1.0, 0.6309, 0.5, 0.4307, ...]\n",
    "                If 1 then weights are [1.0, 0.6309, 0.5, 0.4307, ...]\n",
    "    Returns:\n",
    "        Normalized discounted cumulative gain\n",
    "    \"\"\"\n",
    "    dcg_max = dcg_at_k(correct_rankings, k, method)\n",
    "    if not dcg_max:\n",
    "        return 0.\n",
    "    return dcg_at_k(r, k, method) / dcg_max\n"
   ]
  },
  {
   "cell_type": "markdown",
   "metadata": {},
   "source": [
    "# LOAD DATASETS"
   ]
  },
  {
   "cell_type": "code",
   "execution_count": 54,
   "metadata": {},
   "outputs": [],
   "source": [
    "train = pd.read_csv(PATH_TO_TRAIN)\n",
    "test = pd.read_csv(PATH_TO_TEST)\n",
    "val = pd.read_csv(PATH_TO_VAL)"
   ]
  },
  {
   "cell_type": "code",
   "execution_count": 56,
   "metadata": {},
   "outputs": [
    {
     "data": {
      "text/html": [
       "<div>\n",
       "<style scoped>\n",
       "    .dataframe tbody tr th:only-of-type {\n",
       "        vertical-align: middle;\n",
       "    }\n",
       "\n",
       "    .dataframe tbody tr th {\n",
       "        vertical-align: top;\n",
       "    }\n",
       "\n",
       "    .dataframe thead th {\n",
       "        text-align: right;\n",
       "    }\n",
       "</style>\n",
       "<table border=\"1\" class=\"dataframe\">\n",
       "  <thead>\n",
       "    <tr style=\"text-align: right;\">\n",
       "      <th></th>\n",
       "      <th>context_id</th>\n",
       "      <th>context_2</th>\n",
       "      <th>context_1</th>\n",
       "      <th>context_0</th>\n",
       "      <th>reply_id</th>\n",
       "      <th>reply</th>\n",
       "      <th>label</th>\n",
       "      <th>confidence</th>\n",
       "      <th>merged_contexts</th>\n",
       "      <th>contexts_and_reply</th>\n",
       "      <th>weighted_label</th>\n",
       "      <th>initial_labels</th>\n",
       "      <th>num_label</th>\n",
       "    </tr>\n",
       "  </thead>\n",
       "  <tbody>\n",
       "    <tr>\n",
       "      <th>0</th>\n",
       "      <td>22579918886</td>\n",
       "      <td>[654394, 1561605, 16734, 1554817, 306154, 1561...</td>\n",
       "      <td>[1830003, 1463197, 334254, 676100, 917832]</td>\n",
       "      <td>[1293580, 1463197, 1501890, 1000204]</td>\n",
       "      <td>0</td>\n",
       "      <td>[743031, 1101989]</td>\n",
       "      <td>[0, 0, 1]</td>\n",
       "      <td>0.875352</td>\n",
       "      <td>[654394, 1561605, 16734, 1554817, 306154, 1561...</td>\n",
       "      <td>[654394, 1561605, 16734, 1554817, 306154, 1561...</td>\n",
       "      <td>[0.0, 0.0, 0.87535161750000001]</td>\n",
       "      <td>good</td>\n",
       "      <td>2</td>\n",
       "    </tr>\n",
       "  </tbody>\n",
       "</table>\n",
       "</div>"
      ],
      "text/plain": [
       "    context_id                                          context_2  \\\n",
       "0  22579918886  [654394, 1561605, 16734, 1554817, 306154, 1561...   \n",
       "\n",
       "                                    context_1  \\\n",
       "0  [1830003, 1463197, 334254, 676100, 917832]   \n",
       "\n",
       "                              context_0  reply_id              reply  \\\n",
       "0  [1293580, 1463197, 1501890, 1000204]         0  [743031, 1101989]   \n",
       "\n",
       "       label  confidence                                    merged_contexts  \\\n",
       "0  [0, 0, 1]    0.875352  [654394, 1561605, 16734, 1554817, 306154, 1561...   \n",
       "\n",
       "                                  contexts_and_reply  \\\n",
       "0  [654394, 1561605, 16734, 1554817, 306154, 1561...   \n",
       "\n",
       "                    weighted_label initial_labels  num_label  \n",
       "0  [0.0, 0.0, 0.87535161750000001]           good          2  "
      ]
     },
     "execution_count": 56,
     "metadata": {},
     "output_type": "execute_result"
    }
   ],
   "source": [
    "train.head(1)"
   ]
  },
  {
   "cell_type": "code",
   "execution_count": 57,
   "metadata": {},
   "outputs": [
    {
     "data": {
      "text/html": [
       "<div>\n",
       "<style scoped>\n",
       "    .dataframe tbody tr th:only-of-type {\n",
       "        vertical-align: middle;\n",
       "    }\n",
       "\n",
       "    .dataframe tbody tr th {\n",
       "        vertical-align: top;\n",
       "    }\n",
       "\n",
       "    .dataframe thead th {\n",
       "        text-align: right;\n",
       "    }\n",
       "</style>\n",
       "<table border=\"1\" class=\"dataframe\">\n",
       "  <thead>\n",
       "    <tr style=\"text-align: right;\">\n",
       "      <th></th>\n",
       "      <th>context_id</th>\n",
       "      <th>context_2</th>\n",
       "      <th>context_1</th>\n",
       "      <th>context_0</th>\n",
       "      <th>reply_id</th>\n",
       "      <th>reply</th>\n",
       "      <th>label</th>\n",
       "      <th>confidence</th>\n",
       "      <th>merged_contexts</th>\n",
       "      <th>contexts_and_reply</th>\n",
       "      <th>weighted_label</th>\n",
       "      <th>initial_labels</th>\n",
       "      <th>num_label</th>\n",
       "    </tr>\n",
       "  </thead>\n",
       "  <tbody>\n",
       "    <tr>\n",
       "      <th>0</th>\n",
       "      <td>127768564286</td>\n",
       "      <td>[1061960, 397658, 1247951, 1134945, 1147066, 1...</td>\n",
       "      <td>[334254, 1017975, 613707, 200685, 1463197, 613...</td>\n",
       "      <td>[786497, 1504830, 980317, 938763]</td>\n",
       "      <td>0</td>\n",
       "      <td>[397658, 786497, 1489432, 1376676, 1463197, 90...</td>\n",
       "      <td>[0, 0, 1]</td>\n",
       "      <td>0.867679</td>\n",
       "      <td>[1061960, 397658, 1247951, 1134945, 1147066, 1...</td>\n",
       "      <td>[1061960, 397658, 1247951, 1134945, 1147066, 1...</td>\n",
       "      <td>[0.0, 0.0, 0.86767855680000006]</td>\n",
       "      <td>good</td>\n",
       "      <td>2</td>\n",
       "    </tr>\n",
       "  </tbody>\n",
       "</table>\n",
       "</div>"
      ],
      "text/plain": [
       "     context_id                                          context_2  \\\n",
       "0  127768564286  [1061960, 397658, 1247951, 1134945, 1147066, 1...   \n",
       "\n",
       "                                           context_1  \\\n",
       "0  [334254, 1017975, 613707, 200685, 1463197, 613...   \n",
       "\n",
       "                           context_0  reply_id  \\\n",
       "0  [786497, 1504830, 980317, 938763]         0   \n",
       "\n",
       "                                               reply      label  confidence  \\\n",
       "0  [397658, 786497, 1489432, 1376676, 1463197, 90...  [0, 0, 1]    0.867679   \n",
       "\n",
       "                                     merged_contexts  \\\n",
       "0  [1061960, 397658, 1247951, 1134945, 1147066, 1...   \n",
       "\n",
       "                                  contexts_and_reply  \\\n",
       "0  [1061960, 397658, 1247951, 1134945, 1147066, 1...   \n",
       "\n",
       "                    weighted_label initial_labels  num_label  \n",
       "0  [0.0, 0.0, 0.86767855680000006]           good          2  "
      ]
     },
     "execution_count": 57,
     "metadata": {},
     "output_type": "execute_result"
    }
   ],
   "source": [
    "test.head(1)"
   ]
  },
  {
   "cell_type": "code",
   "execution_count": 58,
   "metadata": {},
   "outputs": [
    {
     "data": {
      "text/html": [
       "<div>\n",
       "<style scoped>\n",
       "    .dataframe tbody tr th:only-of-type {\n",
       "        vertical-align: middle;\n",
       "    }\n",
       "\n",
       "    .dataframe tbody tr th {\n",
       "        vertical-align: top;\n",
       "    }\n",
       "\n",
       "    .dataframe thead th {\n",
       "        text-align: right;\n",
       "    }\n",
       "</style>\n",
       "<table border=\"1\" class=\"dataframe\">\n",
       "  <thead>\n",
       "    <tr style=\"text-align: right;\">\n",
       "      <th></th>\n",
       "      <th>context_id</th>\n",
       "      <th>context_2</th>\n",
       "      <th>context_1</th>\n",
       "      <th>context_0</th>\n",
       "      <th>reply_id</th>\n",
       "      <th>reply</th>\n",
       "      <th>label</th>\n",
       "      <th>confidence</th>\n",
       "      <th>merged_contexts</th>\n",
       "      <th>contexts_and_reply</th>\n",
       "      <th>weighted_label</th>\n",
       "      <th>initial_labels</th>\n",
       "      <th>num_label</th>\n",
       "    </tr>\n",
       "  </thead>\n",
       "  <tbody>\n",
       "    <tr>\n",
       "      <th>0</th>\n",
       "      <td>521831731666</td>\n",
       "      <td>[1304112]</td>\n",
       "      <td>[1663321, 488315, 1862038]</td>\n",
       "      <td>[1748603, 1098780, 1120957, 166293, 307305]</td>\n",
       "      <td>0</td>\n",
       "      <td>[642764, 1704903, 743031, 1066137]</td>\n",
       "      <td>[0, 1, 0]</td>\n",
       "      <td>0.936427</td>\n",
       "      <td>[1304112, 1663321, 488315, 1862038, 1748603, 1...</td>\n",
       "      <td>[1304112, 1663321, 488315, 1862038, 1748603, 1...</td>\n",
       "      <td>[0.0, 0.93642739580000001, 0.0]</td>\n",
       "      <td>neutral</td>\n",
       "      <td>1</td>\n",
       "    </tr>\n",
       "  </tbody>\n",
       "</table>\n",
       "</div>"
      ],
      "text/plain": [
       "     context_id  context_2                   context_1  \\\n",
       "0  521831731666  [1304112]  [1663321, 488315, 1862038]   \n",
       "\n",
       "                                     context_0  reply_id  \\\n",
       "0  [1748603, 1098780, 1120957, 166293, 307305]         0   \n",
       "\n",
       "                                reply      label  confidence  \\\n",
       "0  [642764, 1704903, 743031, 1066137]  [0, 1, 0]    0.936427   \n",
       "\n",
       "                                     merged_contexts  \\\n",
       "0  [1304112, 1663321, 488315, 1862038, 1748603, 1...   \n",
       "\n",
       "                                  contexts_and_reply  \\\n",
       "0  [1304112, 1663321, 488315, 1862038, 1748603, 1...   \n",
       "\n",
       "                    weighted_label initial_labels  num_label  \n",
       "0  [0.0, 0.93642739580000001, 0.0]        neutral          1  "
      ]
     },
     "execution_count": 58,
     "metadata": {},
     "output_type": "execute_result"
    }
   ],
   "source": [
    "val.head(1)"
   ]
  },
  {
   "cell_type": "markdown",
   "metadata": {},
   "source": [
    "## Analyzing test"
   ]
  },
  {
   "cell_type": "code",
   "execution_count": 59,
   "metadata": {},
   "outputs": [
    {
     "data": {
      "text/plain": [
       "array([   127768564286,    548670776224,    727582522209, ...,\n",
       "       281244955640299, 281315804039325, 281421690458811])"
      ]
     },
     "execution_count": 59,
     "metadata": {},
     "output_type": "execute_result"
    }
   ],
   "source": [
    "test.context_id.unique()"
   ]
  },
  {
   "cell_type": "code",
   "execution_count": 61,
   "metadata": {},
   "outputs": [],
   "source": [
    "one_row_test = test.loc[test['context_id'] == 127768564286]"
   ]
  },
  {
   "cell_type": "code",
   "execution_count": 62,
   "metadata": {},
   "outputs": [
    {
     "data": {
      "text/html": [
       "<div>\n",
       "<style scoped>\n",
       "    .dataframe tbody tr th:only-of-type {\n",
       "        vertical-align: middle;\n",
       "    }\n",
       "\n",
       "    .dataframe tbody tr th {\n",
       "        vertical-align: top;\n",
       "    }\n",
       "\n",
       "    .dataframe thead th {\n",
       "        text-align: right;\n",
       "    }\n",
       "</style>\n",
       "<table border=\"1\" class=\"dataframe\">\n",
       "  <thead>\n",
       "    <tr style=\"text-align: right;\">\n",
       "      <th></th>\n",
       "      <th>context_id</th>\n",
       "      <th>context_2</th>\n",
       "      <th>context_1</th>\n",
       "      <th>context_0</th>\n",
       "      <th>reply_id</th>\n",
       "      <th>reply</th>\n",
       "      <th>label</th>\n",
       "      <th>confidence</th>\n",
       "      <th>merged_contexts</th>\n",
       "      <th>contexts_and_reply</th>\n",
       "      <th>weighted_label</th>\n",
       "      <th>initial_labels</th>\n",
       "      <th>num_label</th>\n",
       "    </tr>\n",
       "  </thead>\n",
       "  <tbody>\n",
       "    <tr>\n",
       "      <th>0</th>\n",
       "      <td>127768564286</td>\n",
       "      <td>[1061960, 397658, 1247951, 1134945, 1147066, 1...</td>\n",
       "      <td>[334254, 1017975, 613707, 200685, 1463197, 613...</td>\n",
       "      <td>[786497, 1504830, 980317, 938763]</td>\n",
       "      <td>0</td>\n",
       "      <td>[397658, 786497, 1489432, 1376676, 1463197, 90...</td>\n",
       "      <td>[0, 0, 1]</td>\n",
       "      <td>0.867679</td>\n",
       "      <td>[1061960, 397658, 1247951, 1134945, 1147066, 1...</td>\n",
       "      <td>[1061960, 397658, 1247951, 1134945, 1147066, 1...</td>\n",
       "      <td>[0.0, 0.0, 0.86767855680000006]</td>\n",
       "      <td>good</td>\n",
       "      <td>2</td>\n",
       "    </tr>\n",
       "    <tr>\n",
       "      <th>1</th>\n",
       "      <td>127768564286</td>\n",
       "      <td>[1061960, 397658, 1247951, 1134945, 1147066, 1...</td>\n",
       "      <td>[334254, 1017975, 613707, 200685, 1463197, 613...</td>\n",
       "      <td>[786497, 1504830, 980317, 938763]</td>\n",
       "      <td>1</td>\n",
       "      <td>[786497, 1489432]</td>\n",
       "      <td>[0, 1, 0]</td>\n",
       "      <td>0.653608</td>\n",
       "      <td>[1061960, 397658, 1247951, 1134945, 1147066, 1...</td>\n",
       "      <td>[1061960, 397658, 1247951, 1134945, 1147066, 1...</td>\n",
       "      <td>[0.0, 0.65360824549999996, 0.0]</td>\n",
       "      <td>neutral</td>\n",
       "      <td>1</td>\n",
       "    </tr>\n",
       "    <tr>\n",
       "      <th>2</th>\n",
       "      <td>127768564286</td>\n",
       "      <td>[1061960, 397658, 1247951, 1134945, 1147066, 1...</td>\n",
       "      <td>[334254, 1017975, 613707, 200685, 1463197, 613...</td>\n",
       "      <td>[786497, 1504830, 980317, 938763]</td>\n",
       "      <td>2</td>\n",
       "      <td>[1554817, 334254, 1017975, 1134945, 989147, 11...</td>\n",
       "      <td>[0, 0, 1]</td>\n",
       "      <td>0.903552</td>\n",
       "      <td>[1061960, 397658, 1247951, 1134945, 1147066, 1...</td>\n",
       "      <td>[1061960, 397658, 1247951, 1134945, 1147066, 1...</td>\n",
       "      <td>[0.0, 0.0, 0.90355219860000002]</td>\n",
       "      <td>good</td>\n",
       "      <td>2</td>\n",
       "    </tr>\n",
       "    <tr>\n",
       "      <th>3</th>\n",
       "      <td>127768564286</td>\n",
       "      <td>[1061960, 397658, 1247951, 1134945, 1147066, 1...</td>\n",
       "      <td>[334254, 1017975, 613707, 200685, 1463197, 613...</td>\n",
       "      <td>[786497, 1504830, 980317, 938763]</td>\n",
       "      <td>3</td>\n",
       "      <td>[1702518, 786497, 1489432, 884730, 980317]</td>\n",
       "      <td>[1, 0, 0]</td>\n",
       "      <td>0.944580</td>\n",
       "      <td>[1061960, 397658, 1247951, 1134945, 1147066, 1...</td>\n",
       "      <td>[1061960, 397658, 1247951, 1134945, 1147066, 1...</td>\n",
       "      <td>[0.94457976109999997, 0.0, 0.0]</td>\n",
       "      <td>bad</td>\n",
       "      <td>0</td>\n",
       "    </tr>\n",
       "    <tr>\n",
       "      <th>4</th>\n",
       "      <td>127768564286</td>\n",
       "      <td>[1061960, 397658, 1247951, 1134945, 1147066, 1...</td>\n",
       "      <td>[334254, 1017975, 613707, 200685, 1463197, 613...</td>\n",
       "      <td>[786497, 1504830, 980317, 938763]</td>\n",
       "      <td>4</td>\n",
       "      <td>[109082, 1463197, 1702518, 786497, 1489432]</td>\n",
       "      <td>[0, 0, 1]</td>\n",
       "      <td>0.871350</td>\n",
       "      <td>[1061960, 397658, 1247951, 1134945, 1147066, 1...</td>\n",
       "      <td>[1061960, 397658, 1247951, 1134945, 1147066, 1...</td>\n",
       "      <td>[0.0, 0.0, 0.87134977730000007]</td>\n",
       "      <td>good</td>\n",
       "      <td>2</td>\n",
       "    </tr>\n",
       "  </tbody>\n",
       "</table>\n",
       "</div>"
      ],
      "text/plain": [
       "     context_id                                          context_2  \\\n",
       "0  127768564286  [1061960, 397658, 1247951, 1134945, 1147066, 1...   \n",
       "1  127768564286  [1061960, 397658, 1247951, 1134945, 1147066, 1...   \n",
       "2  127768564286  [1061960, 397658, 1247951, 1134945, 1147066, 1...   \n",
       "3  127768564286  [1061960, 397658, 1247951, 1134945, 1147066, 1...   \n",
       "4  127768564286  [1061960, 397658, 1247951, 1134945, 1147066, 1...   \n",
       "\n",
       "                                           context_1  \\\n",
       "0  [334254, 1017975, 613707, 200685, 1463197, 613...   \n",
       "1  [334254, 1017975, 613707, 200685, 1463197, 613...   \n",
       "2  [334254, 1017975, 613707, 200685, 1463197, 613...   \n",
       "3  [334254, 1017975, 613707, 200685, 1463197, 613...   \n",
       "4  [334254, 1017975, 613707, 200685, 1463197, 613...   \n",
       "\n",
       "                           context_0  reply_id  \\\n",
       "0  [786497, 1504830, 980317, 938763]         0   \n",
       "1  [786497, 1504830, 980317, 938763]         1   \n",
       "2  [786497, 1504830, 980317, 938763]         2   \n",
       "3  [786497, 1504830, 980317, 938763]         3   \n",
       "4  [786497, 1504830, 980317, 938763]         4   \n",
       "\n",
       "                                               reply      label  confidence  \\\n",
       "0  [397658, 786497, 1489432, 1376676, 1463197, 90...  [0, 0, 1]    0.867679   \n",
       "1                                  [786497, 1489432]  [0, 1, 0]    0.653608   \n",
       "2  [1554817, 334254, 1017975, 1134945, 989147, 11...  [0, 0, 1]    0.903552   \n",
       "3         [1702518, 786497, 1489432, 884730, 980317]  [1, 0, 0]    0.944580   \n",
       "4        [109082, 1463197, 1702518, 786497, 1489432]  [0, 0, 1]    0.871350   \n",
       "\n",
       "                                     merged_contexts  \\\n",
       "0  [1061960, 397658, 1247951, 1134945, 1147066, 1...   \n",
       "1  [1061960, 397658, 1247951, 1134945, 1147066, 1...   \n",
       "2  [1061960, 397658, 1247951, 1134945, 1147066, 1...   \n",
       "3  [1061960, 397658, 1247951, 1134945, 1147066, 1...   \n",
       "4  [1061960, 397658, 1247951, 1134945, 1147066, 1...   \n",
       "\n",
       "                                  contexts_and_reply  \\\n",
       "0  [1061960, 397658, 1247951, 1134945, 1147066, 1...   \n",
       "1  [1061960, 397658, 1247951, 1134945, 1147066, 1...   \n",
       "2  [1061960, 397658, 1247951, 1134945, 1147066, 1...   \n",
       "3  [1061960, 397658, 1247951, 1134945, 1147066, 1...   \n",
       "4  [1061960, 397658, 1247951, 1134945, 1147066, 1...   \n",
       "\n",
       "                    weighted_label initial_labels  num_label  \n",
       "0  [0.0, 0.0, 0.86767855680000006]           good          2  \n",
       "1  [0.0, 0.65360824549999996, 0.0]        neutral          1  \n",
       "2  [0.0, 0.0, 0.90355219860000002]           good          2  \n",
       "3  [0.94457976109999997, 0.0, 0.0]            bad          0  \n",
       "4  [0.0, 0.0, 0.87134977730000007]           good          2  "
      ]
     },
     "execution_count": 62,
     "metadata": {},
     "output_type": "execute_result"
    }
   ],
   "source": [
    "one_row_test.head()"
   ]
  },
  {
   "cell_type": "code",
   "execution_count": 63,
   "metadata": {},
   "outputs": [],
   "source": [
    "weighted_labels_str = one_row_test.weighted_label"
   ]
  },
  {
   "cell_type": "code",
   "execution_count": 202,
   "metadata": {},
   "outputs": [],
   "source": [
    "def get_predictions(weighted_labels):\n",
    "    weighted_labels = np.array(weighted_labels)\n",
    "    max_elements = weighted_labels.max(axis=1)[:, np.newaxis]\n",
    "    one_hot_labels = (weighted_labels == max_elements).astype(int)\n",
    "    labels = one_hot_labels * max_elements\n",
    "    return one_hot_labels, labels\n",
    "\n",
    "\n",
    "\n",
    "def get_scores_and_ids(dataframe, context_id):\n",
    "    partition = dataframe.loc[dataframe['context_id'] == context_id]\n",
    "    try: \n",
    "        weighted_labels = [literal_eval(l) for l in partition.weighted_label]\n",
    "    except ValueError:\n",
    "        weighted_labels = partition.weighted_label\n",
    "    \n",
    "    _, preprocessed_labels = get_predictions(weighted_labels)\n",
    "    \n",
    "    ids_and_labels = list(zip(partition.reply_id, \n",
    "                                  np.argmax(preprocessed_labels, axis=1)))\n",
    "\n",
    "    ids_and_labels = sorted(ids_and_labels, key=lambda x: -x[-1])\n",
    "\n",
    "    predicted_ids = [x[0] for x in ids_and_labels]\n",
    "    predicted_scores = [x[1] for x in ids_and_labels]\n",
    "    correct_scores = sorted(partition.num_label, reverse=True)\n",
    "    \n",
    "    return predicted_ids, predicted_scores, correct_scores"
   ]
  },
  {
   "cell_type": "code",
   "execution_count": 207,
   "metadata": {},
   "outputs": [],
   "source": [
    "pred_ids, pred_scores, scores = get_scores_and_ids(test, 127768564286)"
   ]
  },
  {
   "cell_type": "code",
   "execution_count": 208,
   "metadata": {},
   "outputs": [
    {
     "data": {
      "text/plain": [
       "[2, 2, 2, 2, 1, 0]"
      ]
     },
     "execution_count": 208,
     "metadata": {},
     "output_type": "execute_result"
    }
   ],
   "source": [
    "scores"
   ]
  },
  {
   "cell_type": "code",
   "execution_count": 209,
   "metadata": {},
   "outputs": [
    {
     "data": {
      "text/plain": [
       "[2, 2, 2, 2, 1, 0]"
      ]
     },
     "execution_count": 209,
     "metadata": {},
     "output_type": "execute_result"
    }
   ],
   "source": [
    "pred_scores"
   ]
  },
  {
   "cell_type": "code",
   "execution_count": 210,
   "metadata": {},
   "outputs": [
    {
     "data": {
      "text/plain": [
       "1.0"
      ]
     },
     "execution_count": 210,
     "metadata": {},
     "output_type": "execute_result"
    }
   ],
   "source": [
    "ndcg_at_k(pred_scores, scores, len(scores))"
   ]
  },
  {
   "cell_type": "markdown",
   "metadata": {},
   "source": [
    "# Debug"
   ]
  },
  {
   "cell_type": "code",
   "execution_count": 201,
   "metadata": {},
   "outputs": [
    {
     "name": "stdout",
     "output_type": "stream",
     "text": [
      "[2, 2, 2, 2, 1, 0] [2, 2, 2, 2, 1, 0]\n"
     ]
    }
   ],
   "source": [
    "dataframe = test\n",
    "context_id = 127768564286\n",
    "partition = dataframe.loc[dataframe['context_id'] == context_id]\n",
    "preprocessed_labels = [literal_eval(l) for l in partition.weighted_label]\n",
    "\n",
    "\n",
    "#print (preprocessed_labels)\n",
    "\n",
    "#print (np.argmax(preprocessed_labels, axis=1))\n",
    "\n",
    "\n",
    "\n",
    "\n",
    "ids_and_labels = list(zip(partition.reply_id, \n",
    "                              np.argmax(preprocessed_labels, axis=1)))\n",
    "\n",
    "ids_and_labels = sorted(ids_and_labels, key=lambda x: -x[-1])\n",
    "\n",
    "predicted_ids = [x[0] for x in ids_and_labels]\n",
    "predicted_scores = [x[1] for x in ids_and_labels]\n",
    "correct_scores = sorted(partition.num_label, reverse=True)\n",
    "\n",
    "print (predicted_scores, correct_scores)"
   ]
  },
  {
   "cell_type": "code",
   "execution_count": null,
   "metadata": {},
   "outputs": [],
   "source": []
  }
 ],
 "metadata": {
  "kernelspec": {
   "display_name": "tensorflow",
   "language": "python",
   "name": "tensorflow"
  },
  "language_info": {
   "codemirror_mode": {
    "name": "ipython",
    "version": 3
   },
   "file_extension": ".py",
   "mimetype": "text/x-python",
   "name": "python",
   "nbconvert_exporter": "python",
   "pygments_lexer": "ipython3",
   "version": "3.5.2"
  }
 },
 "nbformat": 4,
 "nbformat_minor": 2
}
