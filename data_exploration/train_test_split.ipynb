{
 "cells": [
  {
   "cell_type": "code",
   "execution_count": 712,
   "metadata": {},
   "outputs": [],
   "source": [
    "import numpy as np\n",
    "from sklearn.preprocessing import OneHotEncoder\n",
    "import tensorflow as tf\n",
    "import pandas as pd\n",
    "from collections import Counter\n",
    "from ast import literal_eval\n",
    "import itertools\n",
    "import math\n",
    "import matplotlib.mlab as mlab\n",
    "import matplotlib.pyplot as plt\n",
    "from operator import itemgetter \n",
    "from sklearn.model_selection import StratifiedShuffleSplit\n",
    "from sklearn import cross_validation"
   ]
  },
  {
   "cell_type": "code",
   "execution_count": 577,
   "metadata": {},
   "outputs": [],
   "source": [
    "PATH_TO_TRAIN = \"../../data/train.tsv\"\n",
    "PATH_TO_TEST = \"../../data/public.tsv\"\n",
    "PATH_TO_VOCAB = \"../../data/vocab.txt\""
   ]
  },
  {
   "cell_type": "code",
   "execution_count": 578,
   "metadata": {},
   "outputs": [],
   "source": [
    "train_column_names = ['context_id', 'context_2', 'context_1', \n",
    "                           'context_0', 'reply_id', 'reply', 'label', 'confidence']"
   ]
  },
  {
   "cell_type": "code",
   "execution_count": 579,
   "metadata": {},
   "outputs": [],
   "source": [
    "test_column_names = ['context_id', 'context_2', 'context_1', \n",
    "                           'context_0', 'reply_id', 'reply']"
   ]
  },
  {
   "cell_type": "code",
   "execution_count": 580,
   "metadata": {},
   "outputs": [
    {
     "name": "stderr",
     "output_type": "stream",
     "text": [
      "/Users/kitashov/anaconda/envs/tensorflow/lib/python3.5/site-packages/ipykernel_launcher.py:2: ParserWarning: Falling back to the 'python' engine because the 'c' engine does not support regex separators (separators > 1 char and different from '\\s+' are interpreted as regex); you can avoid this warning by specifying engine='python'.\n",
      "  \n"
     ]
    }
   ],
   "source": [
    "train = pd.read_csv(PATH_TO_TRAIN, error_bad_lines=False, sep = '[  . ? , !]?\\t', \n",
    "                   header=None)\n",
    "train.columns = train_column_names"
   ]
  },
  {
   "cell_type": "code",
   "execution_count": 581,
   "metadata": {},
   "outputs": [
    {
     "data": {
      "text/html": [
       "<div>\n",
       "<style scoped>\n",
       "    .dataframe tbody tr th:only-of-type {\n",
       "        vertical-align: middle;\n",
       "    }\n",
       "\n",
       "    .dataframe tbody tr th {\n",
       "        vertical-align: top;\n",
       "    }\n",
       "\n",
       "    .dataframe thead th {\n",
       "        text-align: right;\n",
       "    }\n",
       "</style>\n",
       "<table border=\"1\" class=\"dataframe\">\n",
       "  <thead>\n",
       "    <tr style=\"text-align: right;\">\n",
       "      <th></th>\n",
       "      <th>context_id</th>\n",
       "      <th>context_2</th>\n",
       "      <th>context_1</th>\n",
       "      <th>context_0</th>\n",
       "      <th>reply_id</th>\n",
       "      <th>reply</th>\n",
       "      <th>label</th>\n",
       "      <th>confidence</th>\n",
       "    </tr>\n",
       "  </thead>\n",
       "  <tbody>\n",
       "    <tr>\n",
       "      <th>0</th>\n",
       "      <td>22579918886</td>\n",
       "      <td>кликни на меня а потом на надпись \" видео - зв...</td>\n",
       "      <td>о , я тебя вижу</td>\n",
       "      <td>ладно , повесь трубку</td>\n",
       "      <td>0</td>\n",
       "      <td>не могу</td>\n",
       "      <td>good</td>\n",
       "      <td>0.875352</td>\n",
       "    </tr>\n",
       "    <tr>\n",
       "      <th>1</th>\n",
       "      <td>22579918886</td>\n",
       "      <td>кликни на меня а потом на надпись \" видео - зв...</td>\n",
       "      <td>о , я тебя вижу</td>\n",
       "      <td>ладно , повесь трубку</td>\n",
       "      <td>1</td>\n",
       "      <td>нет , звонить буду я</td>\n",
       "      <td>neutral</td>\n",
       "      <td>0.900968</td>\n",
       "    </tr>\n",
       "    <tr>\n",
       "      <th>2</th>\n",
       "      <td>22579918886</td>\n",
       "      <td>кликни на меня а потом на надпись \" видео - зв...</td>\n",
       "      <td>о , я тебя вижу</td>\n",
       "      <td>ладно , повесь трубку</td>\n",
       "      <td>2</td>\n",
       "      <td>слушай , я не мог уйти</td>\n",
       "      <td>bad</td>\n",
       "      <td>0.884320</td>\n",
       "    </tr>\n",
       "    <tr>\n",
       "      <th>3</th>\n",
       "      <td>22579918886</td>\n",
       "      <td>кликни на меня а потом на надпись \" видео - зв...</td>\n",
       "      <td>о , я тебя вижу</td>\n",
       "      <td>ладно , повесь трубку</td>\n",
       "      <td>3</td>\n",
       "      <td>я не прекращу звонить</td>\n",
       "      <td>good</td>\n",
       "      <td>0.982530</td>\n",
       "    </tr>\n",
       "    <tr>\n",
       "      <th>4</th>\n",
       "      <td>22579918886</td>\n",
       "      <td>кликни на меня а потом на надпись \" видео - зв...</td>\n",
       "      <td>о , я тебя вижу</td>\n",
       "      <td>ладно , повесь трубку</td>\n",
       "      <td>4</td>\n",
       "      <td>я звоню им</td>\n",
       "      <td>good</td>\n",
       "      <td>0.838054</td>\n",
       "    </tr>\n",
       "  </tbody>\n",
       "</table>\n",
       "</div>"
      ],
      "text/plain": [
       "    context_id                                          context_2  \\\n",
       "0  22579918886  кликни на меня а потом на надпись \" видео - зв...   \n",
       "1  22579918886  кликни на меня а потом на надпись \" видео - зв...   \n",
       "2  22579918886  кликни на меня а потом на надпись \" видео - зв...   \n",
       "3  22579918886  кликни на меня а потом на надпись \" видео - зв...   \n",
       "4  22579918886  кликни на меня а потом на надпись \" видео - зв...   \n",
       "\n",
       "          context_1               context_0  reply_id  \\\n",
       "0  о , я тебя вижу   ладно , повесь трубку          0   \n",
       "1  о , я тебя вижу   ладно , повесь трубку          1   \n",
       "2  о , я тебя вижу   ладно , повесь трубку          2   \n",
       "3  о , я тебя вижу   ладно , повесь трубку          3   \n",
       "4  о , я тебя вижу   ладно , повесь трубку          4   \n",
       "\n",
       "                     reply    label  confidence  \n",
       "0                 не могу      good    0.875352  \n",
       "1    нет , звонить буду я   neutral    0.900968  \n",
       "2  слушай , я не мог уйти       bad    0.884320  \n",
       "3   я не прекращу звонить      good    0.982530  \n",
       "4              я звоню им      good    0.838054  "
      ]
     },
     "execution_count": 581,
     "metadata": {},
     "output_type": "execute_result"
    }
   ],
   "source": [
    "train.head()"
   ]
  },
  {
   "cell_type": "markdown",
   "metadata": {},
   "source": [
    "## Number of utterances"
   ]
  },
  {
   "cell_type": "code",
   "execution_count": 41,
   "metadata": {},
   "outputs": [],
   "source": [
    "line_stats_list = list(train.context_2.isnull() * 1 + train.context_1.isnull() * 1 + train.context_0.isnull() * 1)"
   ]
  },
  {
   "cell_type": "code",
   "execution_count": 42,
   "metadata": {},
   "outputs": [],
   "source": [
    "line_stats_rangeindex = train.context_2.isnull() * 1 + train.context_1.isnull() * 1 + train.context_0.isnull() * 1"
   ]
  },
  {
   "cell_type": "code",
   "execution_count": 51,
   "metadata": {},
   "outputs": [
    {
     "data": {
      "text/plain": [
       "Counter({0: 48390, 1: 24082, 2: 25043, 3: 18})"
      ]
     },
     "execution_count": 51,
     "metadata": {},
     "output_type": "execute_result"
    }
   ],
   "source": [
    "Counter(line_stats_rangeindex)"
   ]
  },
  {
   "cell_type": "code",
   "execution_count": 49,
   "metadata": {},
   "outputs": [],
   "source": [
    "nan_lines_indices = line_stats_rangeindex[line_stats_rangeindex == 3].index"
   ]
  },
  {
   "cell_type": "code",
   "execution_count": 53,
   "metadata": {},
   "outputs": [],
   "source": [
    "assert len(nan_lines_indices) == Counter(line_stats_rangeindex)[3]"
   ]
  },
  {
   "cell_type": "code",
   "execution_count": 50,
   "metadata": {},
   "outputs": [],
   "source": [
    "single_lines_indices = line_stats_rangeindex[line_stats_rangeindex == 2].index"
   ]
  },
  {
   "cell_type": "code",
   "execution_count": 54,
   "metadata": {},
   "outputs": [],
   "source": [
    "assert len(single_lines_indices) == Counter(line_stats_rangeindex)[2]"
   ]
  },
  {
   "cell_type": "code",
   "execution_count": 55,
   "metadata": {},
   "outputs": [],
   "source": [
    "two_lines_indices = line_stats_rangeindex[line_stats_rangeindex == 1].index"
   ]
  },
  {
   "cell_type": "code",
   "execution_count": 56,
   "metadata": {},
   "outputs": [],
   "source": [
    "assert len(two_lines_indices) == Counter(line_stats_rangeindex)[1]"
   ]
  },
  {
   "cell_type": "code",
   "execution_count": 57,
   "metadata": {},
   "outputs": [],
   "source": [
    "three_lines_indices = line_stats_rangeindex[line_stats_rangeindex == 0].index"
   ]
  },
  {
   "cell_type": "markdown",
   "metadata": {},
   "source": [
    "## Get indices"
   ]
  },
  {
   "cell_type": "code",
   "execution_count": 229,
   "metadata": {},
   "outputs": [],
   "source": [
    "def get_column_unique_lines(dataframe, column_name, indices):\n",
    "    mask = np.roll(dataframe.loc[indices, column_name],1)!=dataframe.loc[indices,column_name]\n",
    "    return list(mask[mask==True].index)"
   ]
  },
  {
   "cell_type": "code",
   "execution_count": 232,
   "metadata": {},
   "outputs": [],
   "source": [
    "def get_dataframe_unique_lines(dataframe, indices):\n",
    "    unique_lines = []\n",
    "    context_2_unique_lines = get_column_unique_lines(dataframe, 'context_2', indices)\n",
    "    context_1_unique_lines = get_column_unique_lines(dataframe, 'context_1', indices)\n",
    "    context_0_unique_lines = get_column_unique_lines(dataframe, 'context_0', indices)\n",
    "    #print (context_2_unique_lines[:5])\n",
    "    #print (context_1_unique_lines[:5])\n",
    "    #print (context_0_unique_lines[:5])\n",
    "    for x in context_2_unique_lines:\n",
    "        if x in context_1_unique_lines and x in context_0_unique_lines:\n",
    "            unique_lines.append(x)\n",
    "    return unique_lines"
   ]
  },
  {
   "cell_type": "code",
   "execution_count": 234,
   "metadata": {},
   "outputs": [],
   "source": [
    "three_lines_unique_indices = get_dataframe_unique_lines(train, three_lines_indices)\n",
    "two_lines_unique_indices = get_dataframe_unique_lines(train, two_lines_indices)\n",
    "single_lines_unique_indices = get_dataframe_unique_lines(train, single_lines_indices)"
   ]
  },
  {
   "cell_type": "code",
   "execution_count": 235,
   "metadata": {},
   "outputs": [
    {
     "name": "stdout",
     "output_type": "stream",
     "text": [
      "[0, 6, 12, 18, 24]\n",
      "[61, 109, 115, 121, 139]\n",
      "[49, 67, 91, 151, 175]\n"
     ]
    }
   ],
   "source": [
    "print (three_lines_unique_indices[:5])\n",
    "print (two_lines_unique_indices[:5])\n",
    "print (single_lines_unique_indices[:5])"
   ]
  },
  {
   "cell_type": "markdown",
   "metadata": {},
   "source": [
    "## Get train percentage"
   ]
  },
  {
   "cell_type": "code",
   "execution_count": 58,
   "metadata": {},
   "outputs": [
    {
     "data": {
      "text/plain": [
       "0.4961397680784965"
      ]
     },
     "execution_count": 58,
     "metadata": {},
     "output_type": "execute_result"
    }
   ],
   "source": [
    "len(three_lines_indices) / len(line_stats_rangeindex)"
   ]
  },
  {
   "cell_type": "code",
   "execution_count": 59,
   "metadata": {},
   "outputs": [
    {
     "data": {
      "text/plain": [
       "0.24691130181579568"
      ]
     },
     "execution_count": 59,
     "metadata": {},
     "output_type": "execute_result"
    }
   ],
   "source": [
    "len(two_lines_indices) / len(line_stats_rangeindex)"
   ]
  },
  {
   "cell_type": "code",
   "execution_count": 62,
   "metadata": {},
   "outputs": [
    {
     "data": {
      "text/plain": [
       "0.2567643771851578"
      ]
     },
     "execution_count": 62,
     "metadata": {},
     "output_type": "execute_result"
    }
   ],
   "source": [
    "len(single_lines_indices) / len(line_stats_rangeindex)"
   ]
  },
  {
   "cell_type": "markdown",
   "metadata": {},
   "source": [
    "# Get test stats"
   ]
  },
  {
   "cell_type": "code",
   "execution_count": 63,
   "metadata": {},
   "outputs": [
    {
     "name": "stderr",
     "output_type": "stream",
     "text": [
      "/Users/kitashov/anaconda/envs/tensorflow/lib/python3.5/site-packages/ipykernel_launcher.py:2: ParserWarning: Falling back to the 'python' engine because the 'c' engine does not support regex separators (separators > 1 char and different from '\\s+' are interpreted as regex); you can avoid this warning by specifying engine='python'.\n",
      "  \n"
     ]
    }
   ],
   "source": [
    "test = pd.read_csv(PATH_TO_TEST, error_bad_lines=False, sep = '[  . ? , !]?\\t', \n",
    "                   header=None)\n",
    "test.columns = test_column_names"
   ]
  },
  {
   "cell_type": "code",
   "execution_count": 64,
   "metadata": {},
   "outputs": [
    {
     "data": {
      "text/html": [
       "<div>\n",
       "<style scoped>\n",
       "    .dataframe tbody tr th:only-of-type {\n",
       "        vertical-align: middle;\n",
       "    }\n",
       "\n",
       "    .dataframe tbody tr th {\n",
       "        vertical-align: top;\n",
       "    }\n",
       "\n",
       "    .dataframe thead th {\n",
       "        text-align: right;\n",
       "    }\n",
       "</style>\n",
       "<table border=\"1\" class=\"dataframe\">\n",
       "  <thead>\n",
       "    <tr style=\"text-align: right;\">\n",
       "      <th></th>\n",
       "      <th>context_id</th>\n",
       "      <th>context_2</th>\n",
       "      <th>context_1</th>\n",
       "      <th>context_0</th>\n",
       "      <th>reply_id</th>\n",
       "      <th>reply</th>\n",
       "    </tr>\n",
       "  </thead>\n",
       "  <tbody>\n",
       "    <tr>\n",
       "      <th>0</th>\n",
       "      <td>138920940977</td>\n",
       "      <td>знаешь , я иногда подумываю , что тебе надо пр...</td>\n",
       "      <td>не - а</td>\n",
       "      <td>нет</td>\n",
       "      <td>0</td>\n",
       "      <td>неа .</td>\n",
       "    </tr>\n",
       "    <tr>\n",
       "      <th>1</th>\n",
       "      <td>138920940977</td>\n",
       "      <td>знаешь , я иногда подумываю , что тебе надо пр...</td>\n",
       "      <td>не - а</td>\n",
       "      <td>нет</td>\n",
       "      <td>1</td>\n",
       "      <td>нет , не хочу .</td>\n",
       "    </tr>\n",
       "    <tr>\n",
       "      <th>2</th>\n",
       "      <td>138920940977</td>\n",
       "      <td>знаешь , я иногда подумываю , что тебе надо пр...</td>\n",
       "      <td>не - а</td>\n",
       "      <td>нет</td>\n",
       "      <td>2</td>\n",
       "      <td>нет .</td>\n",
       "    </tr>\n",
       "    <tr>\n",
       "      <th>3</th>\n",
       "      <td>138920940977</td>\n",
       "      <td>знаешь , я иногда подумываю , что тебе надо пр...</td>\n",
       "      <td>не - а</td>\n",
       "      <td>нет</td>\n",
       "      <td>3</td>\n",
       "      <td>конечно , нет .</td>\n",
       "    </tr>\n",
       "    <tr>\n",
       "      <th>4</th>\n",
       "      <td>138920940977</td>\n",
       "      <td>знаешь , я иногда подумываю , что тебе надо пр...</td>\n",
       "      <td>не - а</td>\n",
       "      <td>нет</td>\n",
       "      <td>4</td>\n",
       "      <td>разумеется , нет .</td>\n",
       "    </tr>\n",
       "  </tbody>\n",
       "</table>\n",
       "</div>"
      ],
      "text/plain": [
       "     context_id                                          context_2 context_1  \\\n",
       "0  138920940977  знаешь , я иногда подумываю , что тебе надо пр...   не - а    \n",
       "1  138920940977  знаешь , я иногда подумываю , что тебе надо пр...   не - а    \n",
       "2  138920940977  знаешь , я иногда подумываю , что тебе надо пр...   не - а    \n",
       "3  138920940977  знаешь , я иногда подумываю , что тебе надо пр...   не - а    \n",
       "4  138920940977  знаешь , я иногда подумываю , что тебе надо пр...   не - а    \n",
       "\n",
       "  context_0  reply_id               reply  \n",
       "0      нет          0               неа .  \n",
       "1      нет          1     нет , не хочу .  \n",
       "2      нет          2               нет .  \n",
       "3      нет          3     конечно , нет .  \n",
       "4      нет          4  разумеется , нет .  "
      ]
     },
     "execution_count": 64,
     "metadata": {},
     "output_type": "execute_result"
    }
   ],
   "source": [
    "test.head()"
   ]
  },
  {
   "cell_type": "code",
   "execution_count": 65,
   "metadata": {},
   "outputs": [],
   "source": [
    "test_line_stats_list = list(test.context_2.isnull() * 1 + test.context_1.isnull() * 1 + test.context_0.isnull() * 1)"
   ]
  },
  {
   "cell_type": "code",
   "execution_count": 66,
   "metadata": {},
   "outputs": [],
   "source": [
    "test_line_stats_rangeindex = test.context_2.isnull() * 1 + \\\n",
    "                    test.context_1.isnull() * 1 + test.context_0.isnull() * 1"
   ]
  },
  {
   "cell_type": "code",
   "execution_count": 67,
   "metadata": {},
   "outputs": [
    {
     "data": {
      "text/plain": [
       "Counter({0: 5022, 1: 2526, 2: 2420})"
      ]
     },
     "execution_count": 67,
     "metadata": {},
     "output_type": "execute_result"
    }
   ],
   "source": [
    "Counter(test_line_stats_rangeindex)"
   ]
  },
  {
   "cell_type": "code",
   "execution_count": 68,
   "metadata": {},
   "outputs": [],
   "source": [
    "test_single_lines_indices = test_line_stats_rangeindex[test_line_stats_rangeindex == 2].index\n",
    "test_two_lines_indices = test_line_stats_rangeindex[test_line_stats_rangeindex == 1].index\n",
    "test_three_lines_indices = test_line_stats_rangeindex[test_line_stats_rangeindex == 0].index"
   ]
  },
  {
   "cell_type": "code",
   "execution_count": 71,
   "metadata": {},
   "outputs": [
    {
     "data": {
      "text/plain": [
       "0.242776886035313"
      ]
     },
     "execution_count": 71,
     "metadata": {},
     "output_type": "execute_result"
    }
   ],
   "source": [
    "len(test_single_lines_indices) / len(test_line_stats_rangeindex)"
   ]
  },
  {
   "cell_type": "code",
   "execution_count": 72,
   "metadata": {},
   "outputs": [
    {
     "data": {
      "text/plain": [
       "0.25341091492776885"
      ]
     },
     "execution_count": 72,
     "metadata": {},
     "output_type": "execute_result"
    }
   ],
   "source": [
    "len(test_two_lines_indices) / len(test_line_stats_rangeindex)"
   ]
  },
  {
   "cell_type": "code",
   "execution_count": 73,
   "metadata": {},
   "outputs": [
    {
     "data": {
      "text/plain": [
       "0.5038121990369181"
      ]
     },
     "execution_count": 73,
     "metadata": {},
     "output_type": "execute_result"
    }
   ],
   "source": [
    "len(test_three_lines_indices) / len(test_line_stats_rangeindex)"
   ]
  },
  {
   "cell_type": "markdown",
   "metadata": {},
   "source": [
    "# Get test unique indices"
   ]
  },
  {
   "cell_type": "code",
   "execution_count": 236,
   "metadata": {},
   "outputs": [],
   "source": [
    "test_three_lines_unique_indices = get_dataframe_unique_lines(test, test_three_lines_indices)\n",
    "test_two_lines_unique_indices = get_dataframe_unique_lines(test, test_two_lines_indices)\n",
    "test_single_lines_unique_indices = get_dataframe_unique_lines(test, test_single_lines_indices)"
   ]
  },
  {
   "cell_type": "code",
   "execution_count": 237,
   "metadata": {},
   "outputs": [
    {
     "name": "stdout",
     "output_type": "stream",
     "text": [
      "[0, 6, 18, 48, 60]\n",
      "[30, 78, 102, 108, 138]\n",
      "[12, 24, 36, 42, 54]\n"
     ]
    }
   ],
   "source": [
    "print (test_three_lines_unique_indices[:5])\n",
    "print (test_two_lines_unique_indices[:5])\n",
    "print (test_single_lines_unique_indices[:5])"
   ]
  },
  {
   "cell_type": "markdown",
   "metadata": {},
   "source": [
    "## Words distribution"
   ]
  },
  {
   "cell_type": "code",
   "execution_count": 242,
   "metadata": {},
   "outputs": [],
   "source": [
    "def get_filtered_words(dataset, indices, \n",
    "                       columns=['context_2', 'context_1', 'context_0']):\n",
    "    lenghts = []\n",
    "    for line in dataset.loc[indices, columns].values:\n",
    "        filtered_words = (\"\".join(line[~pd.isnull(line)]).split())\n",
    "        #print (filtered_words)\n",
    "        lenghts.append(len(filtered_words))\n",
    "    return lenghts"
   ]
  },
  {
   "cell_type": "code",
   "execution_count": 289,
   "metadata": {},
   "outputs": [
    {
     "data": {
      "image/png": "[encoded data removed]",
      "text/plain": [
       "<matplotlib.figure.Figure at 0x124c0e2b0>"
      ]
     },
     "metadata": {},
     "output_type": "display_data"
    }
   ],
   "source": [
    "# get lenghts\n",
    "x = get_filtered_words(train, three_lines_unique_indices)\n",
    "y = get_filtered_words(train, two_lines_unique_indices)\n",
    "z = get_filtered_words(train, single_lines_unique_indices)\n",
    "fig, axs = plt.subplots(1, 3, sharey=True)\n",
    "\n",
    "# We can set the number of bins with the `bins` kwarg\n",
    "axs[0].hist(x, bins=list(Counter(x).keys()))\n",
    "axs[1].hist(y, bins=list(Counter(y).keys()))\n",
    "axs[2].hist(y, bins=list(Counter(z).keys()))\n",
    "\n",
    "axs[0].title.set_text('Three lines')\n",
    "axs[1].title.set_text('Two lines')\n",
    "axs[2].title.set_text('Single lines')\n",
    "\n",
    "plt.show()"
   ]
  },
  {
   "cell_type": "code",
   "execution_count": 591,
   "metadata": {},
   "outputs": [],
   "source": [
    "def get_filtered_words(dataset, indices, \n",
    "                       columns=['context_2', 'context_1', 'context_0']):\n",
    "    lenghts = []\n",
    "    dataset.head()\n",
    "    for line in dataset.loc[indices, columns].values:\n",
    "        filtered_words = (\"\".join(line[~pd.isnull(line)]).split())\n",
    "        lenghts.append(len(filtered_words))\n",
    "    return lenghts\n",
    "\n",
    "def get_column_unique_lines(dataframe, column_name, indices):\n",
    "    mask = np.roll(dataframe.loc[indices, column_name],1)!=dataframe.loc[indices,column_name]\n",
    "    return list(mask[mask==True].index)\n",
    "\n",
    "\n",
    "\n",
    "def get_dataframe_unique_lines(dataframe, indices):\n",
    "    unique_lines = []\n",
    "    context_2_unique_lines = get_column_unique_lines(dataframe, 'context_2', indices)\n",
    "    context_1_unique_lines = get_column_unique_lines(dataframe, 'context_1', indices)\n",
    "    context_0_unique_lines = get_column_unique_lines(dataframe, 'context_0', indices)\n",
    "    #print (context_2_unique_lines[:5])\n",
    "    #print (context_1_unique_lines[:5])\n",
    "    #print (context_0_unique_lines[:5])\n",
    "    for x in context_2_unique_lines:\n",
    "        if x in context_1_unique_lines and x in context_0_unique_lines:\n",
    "            unique_lines.append(x)\n",
    "    return unique_lines\n",
    "\n",
    "def get_dataset_words_distribution(dataframe):\n",
    "    \n",
    "    line_stats_rangeindex = dataframe.context_2.isnull() * 1 + dataframe.context_1.isnull() * 1 + dataframe.context_0.isnull() * 1\n",
    "    \n",
    "    print (Counter(line_stats_rangeindex))\n",
    "    \n",
    "    single_lines_indices = line_stats_rangeindex[line_stats_rangeindex == 2].index\n",
    "    two_lines_indices = line_stats_rangeindex[line_stats_rangeindex == 1].index\n",
    "    three_lines_indices = line_stats_rangeindex[line_stats_rangeindex == 0].index\n",
    "    \n",
    "    print ('lines are counted')\n",
    "    \n",
    "    print ('Distribution:')\n",
    "    print ('single lines', len(single_lines_indices) / len(line_stats_rangeindex))\n",
    "    print ('two lines', len(two_lines_indices) / len(line_stats_rangeindex))\n",
    "    print ('three lines', len(three_lines_indices) / len(line_stats_rangeindex))\n",
    "    \n",
    "    print ('----------------------------')\n",
    "    \n",
    "    \n",
    "    three_lines_unique_indices = get_dataframe_unique_lines(dataframe, three_lines_indices)\n",
    "    two_lines_unique_indices = get_dataframe_unique_lines(dataframe, two_lines_indices)\n",
    "    single_lines_unique_indices = get_dataframe_unique_lines(dataframe, single_lines_indices)\n",
    "    \n",
    "    print ('unique lines are counted')\n",
    "    \n",
    "    num_unique_lines = len(three_lines_unique_indices) + len(two_lines_unique_indices) + len(single_lines_unique_indices)\n",
    "    \n",
    "    \n",
    "    print ('Unique lines distribution:')\n",
    "    print ('three lines', len(three_lines_unique_indices) / num_unique_lines)\n",
    "    print ('two lines', len(two_lines_unique_indices) / num_unique_lines)\n",
    "    print ('single lines', len(single_lines_unique_indices) / num_unique_lines)\n",
    "    \n",
    "    print ('-------------------------------------')\n",
    "\n",
    "    x = get_filtered_words(dataframe, three_lines_unique_indices)\n",
    "    print ('three lines filtered')\n",
    "    y = get_filtered_words(dataframe, two_lines_unique_indices)\n",
    "    print ('two lines filtered')\n",
    "    z = get_filtered_words(dataframe, single_lines_unique_indices)\n",
    "    print ('single lines filtered')\n",
    "    \n",
    "    print ('words are filtered')\n",
    "    \n",
    "    print (\"Sizes:\")\n",
    "    print ('three lines', len(x))\n",
    "    print ('two lines', len(y))\n",
    "    print ('single line', len(z))\n",
    "    \n",
    "    print (len(x) + len(y) + len(z))\n",
    "    \n",
    "    print (\"Average lenght:\")\n",
    "    print ('three lines', np.mean(x))\n",
    "    print ('two lines', np.mean(y))\n",
    "    print ('single lines', np.mean(z))\n",
    "    \n",
    "    print (\"Median lenghts:\")\n",
    "    \n",
    "    print ('three lines', np.percentile(x, 50))\n",
    "    print ('two lines', np.percentile(y, 50))\n",
    "    print ('single lines', np.percentile(z, 50))\n",
    "    \n",
    "    \n",
    "    fig, axs = plt.subplots(1, 3, sharey=True)\n",
    "    # We can set the number of bins with the `bins` kwarg\n",
    "    axs[0].hist(x)\n",
    "    axs[1].hist(y)\n",
    "    axs[2].hist(z)\n",
    "\n",
    "\n",
    "    axs[0].title.set_text('Three lines')\n",
    "    axs[1].title.set_text('Two lines')\n",
    "    axs[2].title.set_text('Single lines')\n",
    "\n",
    "    plt.show()\n",
    "    \n",
    "    return three_lines_unique_indices, two_lines_unique_indices, single_lines_unique_indices,   \\\n",
    "                    np.mean(x), np.mean(y), np.mean(z), \\\n",
    "                        np.percentile(x, 50), np.percentile(y, 50), np.percentile(z, 50)"
   ]
  },
  {
   "cell_type": "code",
   "execution_count": 592,
   "metadata": {},
   "outputs": [
    {
     "name": "stdout",
     "output_type": "stream",
     "text": [
      "Counter({0: 48390, 2: 25043, 1: 24082, 3: 18})\n",
      "lines are counted\n",
      "Distribution:\n",
      "single lines 0.2567643771851578\n",
      "two lines 0.24691130181579568\n",
      "three lines 0.4961397680784965\n",
      "----------------------------\n",
      "unique lines are counted\n",
      "Unique lines distribution:\n",
      "three lines 0.49784407411723575\n",
      "two lines 0.24699918424426057\n",
      "single lines 0.25515674163850366\n",
      "-------------------------------------\n",
      "three lines filtered\n",
      "two lines filtered\n",
      "single lines filtered\n",
      "words are filtered\n",
      "Sizes:\n",
      "three lines 8544\n",
      "two lines 4239\n",
      "single line 4379\n",
      "17162\n",
      "Average lenght:\n",
      "three lines 16.5980805243\n",
      "two lines 10.971455532\n",
      "single lines 5.56314226992\n",
      "Median lenghts:\n",
      "three lines 15.0\n",
      "two lines 9.0\n",
      "single lines 4.0\n"
     ]
    },
    {
     "data": {
      "image/png": "[encoded data removed]",
      "text/plain": [
       "<matplotlib.figure.Figure at 0x1294b8cc0>"
      ]
     },
     "metadata": {},
     "output_type": "display_data"
    }
   ],
   "source": [
    "train_three_lines_unique_indices, train_two_lines_unique_indices, train_single_lines_unique_indices, train_mean_three_lines, train_mean_two_lines, train_mean_single_lines, train_median_three_lines, train_median_two_lines, train_median_single_lines = get_dataset_words_distribution(train)\n"
   ]
  },
  {
   "cell_type": "code",
   "execution_count": 593,
   "metadata": {},
   "outputs": [
    {
     "name": "stdout",
     "output_type": "stream",
     "text": [
      "Counter({0: 5022, 1: 2526, 2: 2420})\n",
      "lines are counted\n",
      "Distribution:\n",
      "single lines 0.242776886035313\n",
      "two lines 0.25341091492776885\n",
      "three lines 0.5038121990369181\n",
      "----------------------------\n",
      "unique lines are counted\n",
      "Unique lines distribution:\n",
      "three lines 0.5026611472501479\n",
      "two lines 0.25487876995860437\n",
      "single lines 0.24246008279124778\n",
      "-------------------------------------\n",
      "three lines filtered\n",
      "two lines filtered\n",
      "single lines filtered\n",
      "words are filtered\n",
      "Sizes:\n",
      "three lines 850\n",
      "two lines 431\n",
      "single line 410\n",
      "1691\n",
      "Average lenght:\n",
      "three lines 16.9376470588\n",
      "two lines 10.5475638051\n",
      "single lines 5.6243902439\n",
      "Median lenghts:\n",
      "three lines 16.0\n",
      "two lines 9.0\n",
      "single lines 4.0\n"
     ]
    },
    {
     "data": {
      "image/png": "[encoded data removed]",
      "text/plain": [
       "<matplotlib.figure.Figure at 0x129281630>"
      ]
     },
     "metadata": {},
     "output_type": "display_data"
    }
   ],
   "source": [
    "test_three_lines_unique_indices, test_two_lines_unique_indices, test_single_lines_unique_indices, test_mean_three_lines, test_mean_two_lines, test_mean_single_lines, test_median_three_lines, test_median_two_lines, test_median_single_lines = get_dataset_words_distribution(test)\n"
   ]
  },
  {
   "cell_type": "markdown",
   "metadata": {},
   "source": [
    "# Check train"
   ]
  },
  {
   "cell_type": "code",
   "execution_count": 594,
   "metadata": {},
   "outputs": [],
   "source": [
    "for i in train_three_lines_unique_indices:\n",
    "    if i in train_two_lines_unique_indices or i in train_single_lines_unique_indices:\n",
    "        print (i)"
   ]
  },
  {
   "cell_type": "markdown",
   "metadata": {},
   "source": [
    "# Check test"
   ]
  },
  {
   "cell_type": "code",
   "execution_count": 595,
   "metadata": {},
   "outputs": [],
   "source": [
    "for i in test_three_lines_unique_indices:\n",
    "    if i in test_two_lines_unique_indices or i in test_single_lines_unique_indices:\n",
    "        print (i)"
   ]
  },
  {
   "cell_type": "markdown",
   "metadata": {},
   "source": [
    "## Unique lines"
   ]
  },
  {
   "cell_type": "code",
   "execution_count": 411,
   "metadata": {},
   "outputs": [
    {
     "data": {
      "text/html": [
       "<div>\n",
       "<style scoped>\n",
       "    .dataframe tbody tr th:only-of-type {\n",
       "        vertical-align: middle;\n",
       "    }\n",
       "\n",
       "    .dataframe tbody tr th {\n",
       "        vertical-align: top;\n",
       "    }\n",
       "\n",
       "    .dataframe thead th {\n",
       "        text-align: right;\n",
       "    }\n",
       "</style>\n",
       "<table border=\"1\" class=\"dataframe\">\n",
       "  <thead>\n",
       "    <tr style=\"text-align: right;\">\n",
       "      <th></th>\n",
       "      <th>context_id</th>\n",
       "      <th>context_2</th>\n",
       "      <th>context_1</th>\n",
       "      <th>context_0</th>\n",
       "      <th>reply_id</th>\n",
       "      <th>reply</th>\n",
       "      <th>label</th>\n",
       "      <th>confidence</th>\n",
       "    </tr>\n",
       "  </thead>\n",
       "  <tbody>\n",
       "    <tr>\n",
       "      <th>0</th>\n",
       "      <td>22579918886</td>\n",
       "      <td>кликни на меня а потом на надпись \" видео - зв...</td>\n",
       "      <td>о , я тебя вижу</td>\n",
       "      <td>ладно , повесь трубку</td>\n",
       "      <td>0</td>\n",
       "      <td>не могу</td>\n",
       "      <td>good</td>\n",
       "      <td>0.875352</td>\n",
       "    </tr>\n",
       "    <tr>\n",
       "      <th>1</th>\n",
       "      <td>22579918886</td>\n",
       "      <td>кликни на меня а потом на надпись \" видео - зв...</td>\n",
       "      <td>о , я тебя вижу</td>\n",
       "      <td>ладно , повесь трубку</td>\n",
       "      <td>1</td>\n",
       "      <td>нет , звонить буду я</td>\n",
       "      <td>neutral</td>\n",
       "      <td>0.900968</td>\n",
       "    </tr>\n",
       "    <tr>\n",
       "      <th>2</th>\n",
       "      <td>22579918886</td>\n",
       "      <td>кликни на меня а потом на надпись \" видео - зв...</td>\n",
       "      <td>о , я тебя вижу</td>\n",
       "      <td>ладно , повесь трубку</td>\n",
       "      <td>2</td>\n",
       "      <td>слушай , я не мог уйти</td>\n",
       "      <td>bad</td>\n",
       "      <td>0.884320</td>\n",
       "    </tr>\n",
       "    <tr>\n",
       "      <th>3</th>\n",
       "      <td>22579918886</td>\n",
       "      <td>кликни на меня а потом на надпись \" видео - зв...</td>\n",
       "      <td>о , я тебя вижу</td>\n",
       "      <td>ладно , повесь трубку</td>\n",
       "      <td>3</td>\n",
       "      <td>я не прекращу звонить</td>\n",
       "      <td>good</td>\n",
       "      <td>0.982530</td>\n",
       "    </tr>\n",
       "    <tr>\n",
       "      <th>4</th>\n",
       "      <td>22579918886</td>\n",
       "      <td>кликни на меня а потом на надпись \" видео - зв...</td>\n",
       "      <td>о , я тебя вижу</td>\n",
       "      <td>ладно , повесь трубку</td>\n",
       "      <td>4</td>\n",
       "      <td>я звоню им</td>\n",
       "      <td>good</td>\n",
       "      <td>0.838054</td>\n",
       "    </tr>\n",
       "  </tbody>\n",
       "</table>\n",
       "</div>"
      ],
      "text/plain": [
       "    context_id                                          context_2  \\\n",
       "0  22579918886  кликни на меня а потом на надпись \" видео - зв...   \n",
       "1  22579918886  кликни на меня а потом на надпись \" видео - зв...   \n",
       "2  22579918886  кликни на меня а потом на надпись \" видео - зв...   \n",
       "3  22579918886  кликни на меня а потом на надпись \" видео - зв...   \n",
       "4  22579918886  кликни на меня а потом на надпись \" видео - зв...   \n",
       "\n",
       "          context_1               context_0  reply_id  \\\n",
       "0  о , я тебя вижу   ладно , повесь трубку          0   \n",
       "1  о , я тебя вижу   ладно , повесь трубку          1   \n",
       "2  о , я тебя вижу   ладно , повесь трубку          2   \n",
       "3  о , я тебя вижу   ладно , повесь трубку          3   \n",
       "4  о , я тебя вижу   ладно , повесь трубку          4   \n",
       "\n",
       "                     reply    label  confidence  \n",
       "0                 не могу      good    0.875352  \n",
       "1    нет , звонить буду я   neutral    0.900968  \n",
       "2  слушай , я не мог уйти       bad    0.884320  \n",
       "3   я не прекращу звонить      good    0.982530  \n",
       "4              я звоню им      good    0.838054  "
      ]
     },
     "execution_count": 411,
     "metadata": {},
     "output_type": "execute_result"
    }
   ],
   "source": [
    "train.head()"
   ]
  },
  {
   "cell_type": "code",
   "execution_count": 412,
   "metadata": {},
   "outputs": [
    {
     "data": {
      "text/plain": [
       "17178"
      ]
     },
     "execution_count": 412,
     "metadata": {},
     "output_type": "execute_result"
    }
   ],
   "source": [
    "len(train.context_id.unique())"
   ]
  },
  {
   "cell_type": "code",
   "execution_count": 413,
   "metadata": {},
   "outputs": [
    {
     "data": {
      "text/plain": [
       "1694"
      ]
     },
     "execution_count": 413,
     "metadata": {},
     "output_type": "execute_result"
    }
   ],
   "source": [
    "len(test.context_id.unique())"
   ]
  },
  {
   "cell_type": "code",
   "execution_count": 414,
   "metadata": {},
   "outputs": [
    {
     "data": {
      "text/plain": [
       "0.09861450692746536"
      ]
     },
     "execution_count": 414,
     "metadata": {},
     "output_type": "execute_result"
    }
   ],
   "source": [
    "len(test.context_id.unique()) / len(train.context_id.unique())"
   ]
  },
  {
   "cell_type": "code",
   "execution_count": 415,
   "metadata": {},
   "outputs": [
    {
     "data": {
      "text/plain": [
       "0.09871794871794871"
      ]
     },
     "execution_count": 415,
     "metadata": {},
     "output_type": "execute_result"
    }
   ],
   "source": [
    "len(test.context_id.unique()) / (len(train.context_id.unique()) - len(nan_lines_indices))"
   ]
  },
  {
   "cell_type": "markdown",
   "metadata": {},
   "source": [
    "## Train test split"
   ]
  },
  {
   "cell_type": "markdown",
   "metadata": {},
   "source": [
    "## Train"
   ]
  },
  {
   "cell_type": "code",
   "execution_count": 597,
   "metadata": {},
   "outputs": [
    {
     "name": "stdout",
     "output_type": "stream",
     "text": [
      "8544\n"
     ]
    }
   ],
   "source": [
    "print (len(train_three_lines_unique_indices))"
   ]
  },
  {
   "cell_type": "code",
   "execution_count": 598,
   "metadata": {},
   "outputs": [
    {
     "name": "stdout",
     "output_type": "stream",
     "text": [
      "4239\n"
     ]
    }
   ],
   "source": [
    "print (len(train_two_lines_unique_indices))"
   ]
  },
  {
   "cell_type": "code",
   "execution_count": 599,
   "metadata": {},
   "outputs": [
    {
     "name": "stdout",
     "output_type": "stream",
     "text": [
      "4379\n"
     ]
    }
   ],
   "source": [
    "print (len(train_single_lines_unique_indices))"
   ]
  },
  {
   "cell_type": "markdown",
   "metadata": {},
   "source": [
    "## Train test split debug"
   ]
  },
  {
   "cell_type": "code",
   "execution_count": 744,
   "metadata": {},
   "outputs": [],
   "source": [
    "def train_test_split(dataframe, indices, test_size=0.2):\n",
    "    y = get_filtered_words(dataframe, indices)\n",
    "    values2drop = []\n",
    "    for key, value in Counter(y).items():    # for name, age in list.items():  (for Python 3.x)\n",
    "        if value == 1:\n",
    "            values2drop.append(key)\n",
    "            \n",
    "    print (values2drop)\n",
    "\n",
    "    valid_indices = [j for j, i in enumerate(y) if i not in values2drop]\n",
    "    \n",
    "    \n",
    "    X = itemgetter(*valid_indices)(indices)\n",
    "    \n",
    "    print ('train size', len(X))\n",
    "    \n",
    "    print (X[:20])\n",
    "    \n",
    "    y = get_filtered_words(dataframe, X)\n",
    "    \n",
    "    print (y[:20])\n",
    "    \n",
    "    values2drop = []\n",
    "    for key, value in Counter(y).items():    # for name, age in list.items():  (for Python 3.x)\n",
    "        if value == 1:\n",
    "            values2drop.append(key)\n",
    "\n",
    "    print(values2drop)\n",
    "    \n",
    "    X = np.array(X)\n",
    "    y = np.array(y)\n",
    "    \n",
    "    print (len(X))\n",
    "    print (len(y))\n",
    "    \n",
    "    X_train, X_test, y_train, y_test = cross_validation.train_test_split(X, y,\n",
    "                                                    stratify=y, \n",
    "                                                    test_size=test_size)\n",
    "    \n",
    "    \n",
    "    \n",
    "    '''\n",
    "    sss = StratifiedShuffleSplit(n_splits=1, test_size=test_size, random_state=0)\n",
    "    \n",
    "    for train_index, test_index in sss.split(X, y):\n",
    "        #print(\"TRAIN:\", train_index, \"TEST:\", test_index)\n",
    "        X_train, X_test = X[train_index], X[test_index]\n",
    "        y_train, y_test = y[train_index], y[test_index]\n",
    "    '''\n",
    "    return X_train, X_test, y_train, y_test"
   ]
  },
  {
   "cell_type": "code",
   "execution_count": 745,
   "metadata": {},
   "outputs": [
    {
     "name": "stdout",
     "output_type": "stream",
     "text": [
      "[1, 51, 59, 65, 66, 73, 76, 78]\n",
      "train size 8536\n",
      "(0, 6, 12, 18, 24, 30, 31, 37, 43, 55, 73, 79, 85, 97, 103, 127, 133, 145, 157, 163)\n",
      "[21, 27, 16, 10, 30, 18, 21, 4, 17, 11, 23, 7, 40, 33, 8, 37, 21, 5, 7, 13]\n",
      "[]\n",
      "8536\n",
      "8536\n"
     ]
    }
   ],
   "source": [
    "three_X_train, three_X_test, three_y_train, three_y_test = train_test_split(train, train_three_lines_unique_indices)"
   ]
  },
  {
   "cell_type": "code",
   "execution_count": 746,
   "metadata": {},
   "outputs": [
    {
     "data": {
      "text/plain": [
       "Counter({1: 6828})"
      ]
     },
     "execution_count": 746,
     "metadata": {},
     "output_type": "execute_result"
    }
   ],
   "source": [
    "Counter(Counter(three_X_train).values())"
   ]
  },
  {
   "cell_type": "code",
   "execution_count": 747,
   "metadata": {},
   "outputs": [
    {
     "data": {
      "text/plain": [
       "Counter({1: 1708})"
      ]
     },
     "execution_count": 747,
     "metadata": {},
     "output_type": "execute_result"
    }
   ],
   "source": [
    "Counter(Counter(three_X_test).values())"
   ]
  },
  {
   "cell_type": "markdown",
   "metadata": {},
   "source": [
    "### Thee lines test val split"
   ]
  },
  {
   "cell_type": "code",
   "execution_count": 748,
   "metadata": {},
   "outputs": [
    {
     "name": "stdout",
     "output_type": "stream",
     "text": [
      "[2, 47, 50, 52, 53, 54, 55]\n",
      "train size 1701\n",
      "(26686, 86648, 47885, 36178, 82364, 39722, 81277, 885, 24336, 38395, 14067, 80554, 67836, 71963, 84840, 47373, 40768, 77746, 35158, 78204)\n",
      "[19, 16, 12, 14, 18, 18, 23, 11, 19, 21, 11, 15, 18, 23, 13, 17, 5, 24, 15, 15]\n",
      "[]\n",
      "1701\n",
      "1701\n"
     ]
    }
   ],
   "source": [
    "three_X_test, three_X_val, _, _ = train_test_split(train, three_X_test, test_size=0.5)"
   ]
  },
  {
   "cell_type": "code",
   "execution_count": 749,
   "metadata": {},
   "outputs": [
    {
     "data": {
      "text/plain": [
       "Counter({1: 850})"
      ]
     },
     "execution_count": 749,
     "metadata": {},
     "output_type": "execute_result"
    }
   ],
   "source": [
    "Counter(Counter(three_X_test).values())"
   ]
  },
  {
   "cell_type": "code",
   "execution_count": 750,
   "metadata": {},
   "outputs": [
    {
     "data": {
      "text/plain": [
       "Counter({1: 851})"
      ]
     },
     "execution_count": 750,
     "metadata": {},
     "output_type": "execute_result"
    }
   ],
   "source": [
    "Counter(Counter(three_X_val).values())"
   ]
  },
  {
   "cell_type": "markdown",
   "metadata": {},
   "source": [
    "# Two lines"
   ]
  },
  {
   "cell_type": "code",
   "execution_count": 751,
   "metadata": {},
   "outputs": [
    {
     "name": "stdout",
     "output_type": "stream",
     "text": [
      "[41, 42, 43, 44, 46, 49, 55, 61, 72]\n",
      "train size 4230\n",
      "(61, 109, 115, 121, 139, 183, 202, 220, 226, 245, 263, 269, 314, 356, 368, 410, 428, 435, 453, 465)\n",
      "[6, 16, 4, 8, 14, 7, 4, 20, 10, 3, 7, 11, 4, 8, 6, 6, 11, 7, 6, 10]\n",
      "[]\n",
      "4230\n",
      "4230\n"
     ]
    }
   ],
   "source": [
    "two_X_train, two_X_test, two_y_train, two_y_test = train_test_split(train, train_two_lines_unique_indices, test_size=0.2)"
   ]
  },
  {
   "cell_type": "code",
   "execution_count": 752,
   "metadata": {},
   "outputs": [
    {
     "data": {
      "text/plain": [
       "Counter({1: 3384})"
      ]
     },
     "execution_count": 752,
     "metadata": {},
     "output_type": "execute_result"
    }
   ],
   "source": [
    "Counter(Counter(two_X_train).values())"
   ]
  },
  {
   "cell_type": "code",
   "execution_count": 753,
   "metadata": {},
   "outputs": [
    {
     "data": {
      "text/plain": [
       "Counter({1: 846})"
      ]
     },
     "execution_count": 753,
     "metadata": {},
     "output_type": "execute_result"
    }
   ],
   "source": [
    "Counter(Counter(two_X_test).values())"
   ]
  },
  {
   "cell_type": "markdown",
   "metadata": {},
   "source": [
    "## Test Val split"
   ]
  },
  {
   "cell_type": "code",
   "execution_count": 754,
   "metadata": {},
   "outputs": [
    {
     "name": "stdout",
     "output_type": "stream",
     "text": [
      "[1, 33, 34, 35, 36, 37, 39, 40]\n",
      "train size 838\n",
      "(42779, 23362, 52958, 85458, 34226, 50281, 73003, 81938, 93126, 82138, 37270, 56400, 34794, 51192, 56808, 57675, 8384, 32264, 72710, 67176)\n",
      "[3, 13, 17, 3, 14, 10, 8, 12, 5, 11, 4, 12, 12, 21, 18, 5, 14, 9, 7, 23]\n",
      "[]\n",
      "838\n",
      "838\n"
     ]
    }
   ],
   "source": [
    "two_X_test, two_X_val, _, _ = train_test_split(train, two_X_test, test_size=0.5)"
   ]
  },
  {
   "cell_type": "code",
   "execution_count": 755,
   "metadata": {},
   "outputs": [
    {
     "data": {
      "text/plain": [
       "Counter({1: 419})"
      ]
     },
     "execution_count": 755,
     "metadata": {},
     "output_type": "execute_result"
    }
   ],
   "source": [
    "Counter(Counter(two_X_test).values())"
   ]
  },
  {
   "cell_type": "code",
   "execution_count": 756,
   "metadata": {},
   "outputs": [
    {
     "data": {
      "text/plain": [
       "Counter({1: 419})"
      ]
     },
     "execution_count": 756,
     "metadata": {},
     "output_type": "execute_result"
    }
   ],
   "source": [
    "Counter(Counter(two_X_val).values())"
   ]
  },
  {
   "cell_type": "markdown",
   "metadata": {},
   "source": [
    "## Single lines"
   ]
  },
  {
   "cell_type": "code",
   "execution_count": 757,
   "metadata": {
    "scrolled": true
   },
   "outputs": [
    {
     "name": "stdout",
     "output_type": "stream",
     "text": [
      "[29, 31, 35, 39, 46, 47]\n",
      "train size 4373\n",
      "(49, 67, 91, 151, 175, 195, 196, 302, 308, 320, 326, 374, 398, 416, 422, 459, 471, 477, 507, 525)\n",
      "[5, 5, 2, 1, 3, 3, 5, 10, 3, 5, 3, 26, 5, 1, 4, 7, 2, 8, 8, 4]\n",
      "[]\n",
      "4373\n",
      "4373\n"
     ]
    }
   ],
   "source": [
    "single_X_train, single_X_test, single_y_train, single_y_test = train_test_split(train, train_single_lines_unique_indices)"
   ]
  },
  {
   "cell_type": "code",
   "execution_count": 758,
   "metadata": {},
   "outputs": [
    {
     "name": "stdout",
     "output_type": "stream",
     "text": [
      "[22, 24, 26, 27, 28]\n",
      "train size 870\n",
      "(17601, 6528, 25294, 73946, 24675, 79681, 64044, 50091, 22113, 78102, 70231, 6473, 22654, 24837, 85768, 20730, 77800, 88207, 63418, 758)\n",
      "[1, 5, 1, 4, 15, 9, 1, 12, 3, 14, 2, 4, 6, 1, 9, 1, 1, 4, 3, 1]\n",
      "[]\n",
      "870\n",
      "870\n"
     ]
    }
   ],
   "source": [
    "single_X_test, single_X_val, _, _ = train_test_split(train, single_X_test, test_size=0.5)"
   ]
  },
  {
   "cell_type": "code",
   "execution_count": 759,
   "metadata": {},
   "outputs": [],
   "source": [
    "X_train = np.concatenate([three_X_train, two_X_train, single_X_train], axis=0)\n",
    "X_test = np.concatenate([three_X_test, two_X_test, single_X_test], axis=0)\n",
    "X_val = np.concatenate([three_X_val, two_X_val, single_X_val])"
   ]
  },
  {
   "cell_type": "code",
   "execution_count": 760,
   "metadata": {},
   "outputs": [
    {
     "data": {
      "text/plain": [
       "13710"
      ]
     },
     "execution_count": 760,
     "metadata": {},
     "output_type": "execute_result"
    }
   ],
   "source": [
    "len(X_train)"
   ]
  },
  {
   "cell_type": "code",
   "execution_count": 761,
   "metadata": {},
   "outputs": [
    {
     "data": {
      "text/plain": [
       "1704"
      ]
     },
     "execution_count": 761,
     "metadata": {},
     "output_type": "execute_result"
    }
   ],
   "source": [
    "len(X_test)"
   ]
  },
  {
   "cell_type": "code",
   "execution_count": 762,
   "metadata": {},
   "outputs": [
    {
     "data": {
      "text/plain": [
       "1705"
      ]
     },
     "execution_count": 762,
     "metadata": {},
     "output_type": "execute_result"
    }
   ],
   "source": [
    "len(X_val)"
   ]
  },
  {
   "cell_type": "markdown",
   "metadata": {},
   "source": [
    "## Check train_test_split"
   ]
  },
  {
   "cell_type": "code",
   "execution_count": 763,
   "metadata": {},
   "outputs": [],
   "source": [
    "train_X_train = train.loc[X_train]\n",
    "train_X_test = train.loc[X_test]\n",
    "train_X_val = train.loc[X_val]"
   ]
  },
  {
   "cell_type": "code",
   "execution_count": 766,
   "metadata": {},
   "outputs": [
    {
     "data": {
      "text/plain": [
       "Counter({1: 1704})"
      ]
     },
     "execution_count": 766,
     "metadata": {},
     "output_type": "execute_result"
    }
   ],
   "source": [
    "Counter(Counter(X_test).values())"
   ]
  },
  {
   "cell_type": "code",
   "execution_count": 768,
   "metadata": {},
   "outputs": [
    {
     "data": {
      "text/plain": [
       "Counter({1: 1705})"
      ]
     },
     "execution_count": 768,
     "metadata": {},
     "output_type": "execute_result"
    }
   ],
   "source": [
    "Counter(Counter(X_val).values())"
   ]
  },
  {
   "cell_type": "code",
   "execution_count": 769,
   "metadata": {},
   "outputs": [
    {
     "data": {
      "text/plain": [
       "Counter({1: 13710})"
      ]
     },
     "execution_count": 769,
     "metadata": {},
     "output_type": "execute_result"
    }
   ],
   "source": [
    "Counter(Counter(X_train).values())"
   ]
  },
  {
   "cell_type": "code",
   "execution_count": 770,
   "metadata": {},
   "outputs": [
    {
     "data": {
      "text/plain": [
       "(13710, 8)"
      ]
     },
     "execution_count": 770,
     "metadata": {},
     "output_type": "execute_result"
    }
   ],
   "source": [
    "train_X_train.shape"
   ]
  },
  {
   "cell_type": "code",
   "execution_count": 771,
   "metadata": {},
   "outputs": [
    {
     "data": {
      "text/plain": [
       "(1704, 8)"
      ]
     },
     "execution_count": 771,
     "metadata": {},
     "output_type": "execute_result"
    }
   ],
   "source": [
    "train_X_test.shape"
   ]
  },
  {
   "cell_type": "code",
   "execution_count": 772,
   "metadata": {},
   "outputs": [
    {
     "data": {
      "text/plain": [
       "(13710, 8)"
      ]
     },
     "execution_count": 772,
     "metadata": {},
     "output_type": "execute_result"
    }
   ],
   "source": [
    "train_X_train.drop_duplicates().shape"
   ]
  },
  {
   "cell_type": "code",
   "execution_count": 773,
   "metadata": {},
   "outputs": [
    {
     "data": {
      "text/plain": [
       "(1704, 8)"
      ]
     },
     "execution_count": 773,
     "metadata": {},
     "output_type": "execute_result"
    }
   ],
   "source": [
    "train_X_test.drop_duplicates().shape"
   ]
  },
  {
   "cell_type": "code",
   "execution_count": 774,
   "metadata": {},
   "outputs": [
    {
     "data": {
      "text/plain": [
       "(1705, 8)"
      ]
     },
     "execution_count": 774,
     "metadata": {},
     "output_type": "execute_result"
    }
   ],
   "source": [
    "train_X_val.drop_duplicates().shape"
   ]
  },
  {
   "cell_type": "code",
   "execution_count": 775,
   "metadata": {
    "scrolled": true
   },
   "outputs": [
    {
     "name": "stdout",
     "output_type": "stream",
     "text": [
      "Counter({0: 850, 2: 435, 1: 419})\n",
      "lines are counted\n",
      "Distribution:\n",
      "single lines 0.25528169014084506\n",
      "two lines 0.24589201877934272\n",
      "three lines 0.4988262910798122\n",
      "----------------------------\n",
      "unique lines are counted\n",
      "Unique lines distribution:\n",
      "three lines 0.49853200234879624\n",
      "two lines 0.24603640634174986\n",
      "single lines 0.2554315913094539\n",
      "-------------------------------------\n",
      "three lines filtered\n",
      "two lines filtered\n",
      "single lines filtered\n",
      "words are filtered\n",
      "Sizes:\n",
      "three lines 849\n",
      "two lines 419\n",
      "single line 435\n",
      "1703\n",
      "Average lenght:\n",
      "three lines 16.5359246172\n",
      "two lines 10.7136038186\n",
      "single lines 5.33103448276\n",
      "Median lenghts:\n",
      "three lines 15.0\n",
      "two lines 9.0\n",
      "single lines 4.0\n"
     ]
    },
    {
     "data": {
      "image/png": "[encoded data removed]",
      "text/plain": [
       "<matplotlib.figure.Figure at 0x126178320>"
      ]
     },
     "metadata": {},
     "output_type": "display_data"
    }
   ],
   "source": [
    "_, _, _, _, _, _, _, _, _  = get_dataset_words_distribution(train_X_test)"
   ]
  },
  {
   "cell_type": "code",
   "execution_count": 776,
   "metadata": {},
   "outputs": [
    {
     "name": "stdout",
     "output_type": "stream",
     "text": [
      "Counter({0: 851, 2: 435, 1: 419})\n",
      "lines are counted\n",
      "Distribution:\n",
      "single lines 0.25513196480938416\n",
      "two lines 0.24574780058651027\n",
      "three lines 0.4991202346041056\n",
      "----------------------------\n",
      "unique lines are counted\n",
      "Unique lines distribution:\n",
      "three lines 0.4997060552616108\n",
      "two lines 0.24514991181657847\n",
      "single lines 0.2551440329218107\n",
      "-------------------------------------\n",
      "three lines filtered\n",
      "two lines filtered\n",
      "single lines filtered\n",
      "words are filtered\n",
      "Sizes:\n",
      "three lines 850\n",
      "two lines 417\n",
      "single line 434\n",
      "1701\n",
      "Average lenght:\n",
      "three lines 16.3176470588\n",
      "two lines 10.6882494005\n",
      "single lines 5.41705069124\n",
      "Median lenghts:\n",
      "three lines 15.0\n",
      "two lines 9.0\n",
      "single lines 4.0\n"
     ]
    },
    {
     "data": {
      "image/png": "[encoded data removed]",
      "text/plain": [
       "<matplotlib.figure.Figure at 0x12566f5c0>"
      ]
     },
     "metadata": {},
     "output_type": "display_data"
    }
   ],
   "source": [
    "_, _, _, _, _, _, _, _, _  = get_dataset_words_distribution(train_X_val)"
   ]
  },
  {
   "cell_type": "code",
   "execution_count": 777,
   "metadata": {},
   "outputs": [
    {
     "name": "stdout",
     "output_type": "stream",
     "text": [
      "Counter({0: 6828, 2: 3498, 1: 3384})\n",
      "lines are counted\n",
      "Distribution:\n",
      "single lines 0.2551422319474836\n",
      "two lines 0.24682713347921226\n",
      "three lines 0.49803063457330415\n",
      "----------------------------\n",
      "unique lines are counted\n",
      "Unique lines distribution:\n",
      "three lines 0.4979934330536301\n",
      "two lines 0.24684421743889093\n",
      "single lines 0.255162349507479\n",
      "-------------------------------------\n",
      "three lines filtered\n",
      "two lines filtered\n",
      "single lines filtered\n",
      "words are filtered\n",
      "Sizes:\n",
      "three lines 6825\n",
      "two lines 3383\n",
      "single line 3497\n",
      "13705\n",
      "Average lenght:\n",
      "three lines 16.5676190476\n",
      "two lines 10.8909252143\n",
      "single lines 5.52902487847\n",
      "Median lenghts:\n",
      "three lines 15.0\n",
      "two lines 9.0\n",
      "single lines 4.0\n"
     ]
    },
    {
     "data": {
      "image/png": "[encoded data removed]",
      "text/plain": [
       "<matplotlib.figure.Figure at 0x12566fe80>"
      ]
     },
     "metadata": {},
     "output_type": "display_data"
    }
   ],
   "source": [
    "_, _, _, _, _, _, _, _, _ = get_dataset_words_distribution(train_X_train)"
   ]
  },
  {
   "cell_type": "markdown",
   "metadata": {},
   "source": [
    "## Post prod"
   ]
  },
  {
   "cell_type": "code",
   "execution_count": 692,
   "metadata": {},
   "outputs": [
    {
     "data": {
      "text/html": [
       "<div>\n",
       "<style scoped>\n",
       "    .dataframe tbody tr th:only-of-type {\n",
       "        vertical-align: middle;\n",
       "    }\n",
       "\n",
       "    .dataframe tbody tr th {\n",
       "        vertical-align: top;\n",
       "    }\n",
       "\n",
       "    .dataframe thead th {\n",
       "        text-align: right;\n",
       "    }\n",
       "</style>\n",
       "<table border=\"1\" class=\"dataframe\">\n",
       "  <thead>\n",
       "    <tr style=\"text-align: right;\">\n",
       "      <th></th>\n",
       "      <th>context_id</th>\n",
       "      <th>context_2</th>\n",
       "      <th>context_1</th>\n",
       "      <th>context_0</th>\n",
       "      <th>reply_id</th>\n",
       "      <th>reply</th>\n",
       "      <th>label</th>\n",
       "      <th>confidence</th>\n",
       "    </tr>\n",
       "  </thead>\n",
       "  <tbody>\n",
       "    <tr>\n",
       "      <th>0</th>\n",
       "      <td>22579918886</td>\n",
       "      <td>кликни на меня а потом на надпись \" видео - зв...</td>\n",
       "      <td>о , я тебя вижу</td>\n",
       "      <td>ладно , повесь трубку</td>\n",
       "      <td>0</td>\n",
       "      <td>не могу</td>\n",
       "      <td>good</td>\n",
       "      <td>0.875352</td>\n",
       "    </tr>\n",
       "    <tr>\n",
       "      <th>1</th>\n",
       "      <td>22579918886</td>\n",
       "      <td>кликни на меня а потом на надпись \" видео - зв...</td>\n",
       "      <td>о , я тебя вижу</td>\n",
       "      <td>ладно , повесь трубку</td>\n",
       "      <td>1</td>\n",
       "      <td>нет , звонить буду я</td>\n",
       "      <td>neutral</td>\n",
       "      <td>0.900968</td>\n",
       "    </tr>\n",
       "    <tr>\n",
       "      <th>2</th>\n",
       "      <td>22579918886</td>\n",
       "      <td>кликни на меня а потом на надпись \" видео - зв...</td>\n",
       "      <td>о , я тебя вижу</td>\n",
       "      <td>ладно , повесь трубку</td>\n",
       "      <td>2</td>\n",
       "      <td>слушай , я не мог уйти</td>\n",
       "      <td>bad</td>\n",
       "      <td>0.884320</td>\n",
       "    </tr>\n",
       "    <tr>\n",
       "      <th>3</th>\n",
       "      <td>22579918886</td>\n",
       "      <td>кликни на меня а потом на надпись \" видео - зв...</td>\n",
       "      <td>о , я тебя вижу</td>\n",
       "      <td>ладно , повесь трубку</td>\n",
       "      <td>3</td>\n",
       "      <td>я не прекращу звонить</td>\n",
       "      <td>good</td>\n",
       "      <td>0.982530</td>\n",
       "    </tr>\n",
       "    <tr>\n",
       "      <th>4</th>\n",
       "      <td>22579918886</td>\n",
       "      <td>кликни на меня а потом на надпись \" видео - зв...</td>\n",
       "      <td>о , я тебя вижу</td>\n",
       "      <td>ладно , повесь трубку</td>\n",
       "      <td>4</td>\n",
       "      <td>я звоню им</td>\n",
       "      <td>good</td>\n",
       "      <td>0.838054</td>\n",
       "    </tr>\n",
       "  </tbody>\n",
       "</table>\n",
       "</div>"
      ],
      "text/plain": [
       "    context_id                                          context_2  \\\n",
       "0  22579918886  кликни на меня а потом на надпись \" видео - зв...   \n",
       "1  22579918886  кликни на меня а потом на надпись \" видео - зв...   \n",
       "2  22579918886  кликни на меня а потом на надпись \" видео - зв...   \n",
       "3  22579918886  кликни на меня а потом на надпись \" видео - зв...   \n",
       "4  22579918886  кликни на меня а потом на надпись \" видео - зв...   \n",
       "\n",
       "          context_1               context_0  reply_id  \\\n",
       "0  о , я тебя вижу   ладно , повесь трубку          0   \n",
       "1  о , я тебя вижу   ладно , повесь трубку          1   \n",
       "2  о , я тебя вижу   ладно , повесь трубку          2   \n",
       "3  о , я тебя вижу   ладно , повесь трубку          3   \n",
       "4  о , я тебя вижу   ладно , повесь трубку          4   \n",
       "\n",
       "                     reply    label  confidence  \n",
       "0                 не могу      good    0.875352  \n",
       "1    нет , звонить буду я   neutral    0.900968  \n",
       "2  слушай , я не мог уйти       bad    0.884320  \n",
       "3   я не прекращу звонить      good    0.982530  \n",
       "4              я звоню им      good    0.838054  "
      ]
     },
     "execution_count": 692,
     "metadata": {},
     "output_type": "execute_result"
    }
   ],
   "source": [
    "train.head()"
   ]
  },
  {
   "cell_type": "code",
   "execution_count": 694,
   "metadata": {},
   "outputs": [],
   "source": [
    "train_ids = train.loc[X_train, 'context_id']"
   ]
  },
  {
   "cell_type": "code",
   "execution_count": 705,
   "metadata": {},
   "outputs": [],
   "source": [
    "test_ids = train.loc[X_test, 'context_id']"
   ]
  },
  {
   "cell_type": "code",
   "execution_count": 778,
   "metadata": {},
   "outputs": [],
   "source": [
    "val_ids = train.loc[X_test, 'context_id']"
   ]
  },
  {
   "cell_type": "code",
   "execution_count": 779,
   "metadata": {},
   "outputs": [
    {
     "data": {
      "text/plain": [
       "42936    122972060819979\n",
       "79113    227815806974925\n",
       "14869     43280525357343\n",
       "85558    246371230461311\n",
       "59490    171537718659898\n",
       "Name: context_id, dtype: int64"
      ]
     },
     "execution_count": 779,
     "metadata": {},
     "output_type": "execute_result"
    }
   ],
   "source": [
    "train_ids[:5]"
   ]
  },
  {
   "cell_type": "code",
   "execution_count": 780,
   "metadata": {},
   "outputs": [
    {
     "data": {
      "text/plain": [
       "52497    151124827161979\n",
       "3283       9004898342942\n",
       "34921    100303766778736\n",
       "13742     39278743908560\n",
       "48079    138319279533738\n",
       "Name: context_id, dtype: int64"
      ]
     },
     "execution_count": 780,
     "metadata": {},
     "output_type": "execute_result"
    }
   ],
   "source": [
    "test_ids[:5]"
   ]
  },
  {
   "cell_type": "code",
   "execution_count": 781,
   "metadata": {},
   "outputs": [
    {
     "data": {
      "text/plain": [
       "25976     74984696500671\n",
       "74133    213588279969427\n",
       "41696    119441101723137\n",
       "54348    156489441529428\n",
       "40768    116960665486446\n",
       "Name: context_id, dtype: int64"
      ]
     },
     "execution_count": 781,
     "metadata": {},
     "output_type": "execute_result"
    }
   ],
   "source": [
    "val_ids[:5]"
   ]
  },
  {
   "cell_type": "code",
   "execution_count": 704,
   "metadata": {},
   "outputs": [
    {
     "data": {
      "text/plain": [
       "(87523, 8)"
      ]
     },
     "execution_count": 704,
     "metadata": {},
     "output_type": "execute_result"
    }
   ],
   "source": [
    "train.loc[train['context_id'].isin(train_ids)].shape"
   ]
  },
  {
   "cell_type": "code",
   "execution_count": 706,
   "metadata": {},
   "outputs": [
    {
     "data": {
      "text/plain": [
       "(9795, 8)"
      ]
     },
     "execution_count": 706,
     "metadata": {},
     "output_type": "execute_result"
    }
   ],
   "source": [
    "train.loc[train['context_id'].isin(test_ids)].shape"
   ]
  },
  {
   "cell_type": "code",
   "execution_count": 782,
   "metadata": {},
   "outputs": [
    {
     "data": {
      "text/plain": [
       "(9644, 8)"
      ]
     },
     "execution_count": 782,
     "metadata": {},
     "output_type": "execute_result"
    }
   ],
   "source": [
    "train.loc[train['context_id'].isin(val_ids)].shape"
   ]
  },
  {
   "cell_type": "markdown",
   "metadata": {},
   "source": [
    "## Save the split"
   ]
  },
  {
   "cell_type": "code",
   "execution_count": 783,
   "metadata": {},
   "outputs": [],
   "source": [
    "np.save(\"../../data/train_context_ids.npy\", train_ids)"
   ]
  },
  {
   "cell_type": "code",
   "execution_count": 784,
   "metadata": {},
   "outputs": [],
   "source": [
    "np.save(\"../../data/test_context_ids.npy\", test_ids)"
   ]
  },
  {
   "cell_type": "code",
   "execution_count": 785,
   "metadata": {},
   "outputs": [],
   "source": [
    "np.save(\"../../data/val_context_ids.npy\", val_ids)"
   ]
  },
  {
   "cell_type": "markdown",
   "metadata": {},
   "source": [
    "## Load split"
   ]
  },
  {
   "cell_type": "code",
   "execution_count": 786,
   "metadata": {},
   "outputs": [],
   "source": [
    "uploaded_train_ids = np.load(\"../../data/train_context_ids.npy\")"
   ]
  },
  {
   "cell_type": "code",
   "execution_count": 787,
   "metadata": {},
   "outputs": [
    {
     "data": {
      "text/plain": [
       "array([122972060819979, 227815806974925,  43280525357343, ...,\n",
       "       172777330452897,  57131959800035,  96959218159365])"
      ]
     },
     "execution_count": 787,
     "metadata": {},
     "output_type": "execute_result"
    }
   ],
   "source": [
    "uploaded_train_ids"
   ]
  },
  {
   "cell_type": "code",
   "execution_count": null,
   "metadata": {},
   "outputs": [],
   "source": []
  }
 ],
 "metadata": {
  "kernelspec": {
   "display_name": "tensorflow",
   "language": "python",
   "name": "tensorflow"
  },
  "language_info": {
   "codemirror_mode": {
    "name": "ipython",
    "version": 3
   },
   "file_extension": ".py",
   "mimetype": "text/x-python",
   "name": "python",
   "nbconvert_exporter": "python",
   "pygments_lexer": "ipython3",
   "version": "3.5.2"
  }
 },
 "nbformat": 4,
 "nbformat_minor": 2
}
