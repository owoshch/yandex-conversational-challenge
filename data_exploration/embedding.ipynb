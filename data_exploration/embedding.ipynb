{
 "cells": [
  {
   "cell_type": "code",
   "execution_count": 30,
   "metadata": {},
   "outputs": [],
   "source": [
    "import numpy as np\n",
    "from sklearn.preprocessing import OneHotEncoder\n",
    "import tensorflow as tf\n",
    "import pandas as pd\n",
    "from collections import Counter\n",
    "from ast import literal_eval\n",
    "\n",
    "#gpu_options = tf.GPUOptions(allow_growth=True, per_process_gpu_memory_fraction=0.99)\n",
    "#s = tf.InteractiveSession(config=tf.ConfigProto(gpu_options=gpu_options))\n",
    "s = tf.InteractiveSession()"
   ]
  },
  {
   "cell_type": "code",
   "execution_count": 31,
   "metadata": {},
   "outputs": [],
   "source": [
    "def get_trimmed_glove_vectors(filename):\n",
    "    \"\"\"\n",
    "    Args:\n",
    "        filename: path to the npz file\n",
    "\n",
    "    Returns:\n",
    "        matrix of embeddings (np array)\n",
    "\n",
    "    \"\"\"\n",
    "    try:\n",
    "        with np.load(filename) as data:\n",
    "            return data[\"embeddings\"]\n",
    "\n",
    "    except IOError:\n",
    "        raise MyIOError(filename)"
   ]
  },
  {
   "cell_type": "code",
   "execution_count": 32,
   "metadata": {},
   "outputs": [],
   "source": [
    "PATH_TO_TRAIN = \"../../data/train_preprocesses.csv\""
   ]
  },
  {
   "cell_type": "code",
   "execution_count": 33,
   "metadata": {},
   "outputs": [],
   "source": [
    "train = pd.read_csv(PATH_TO_TRAIN)"
   ]
  },
  {
   "cell_type": "code",
   "execution_count": 34,
   "metadata": {},
   "outputs": [
    {
     "data": {
      "text/html": [
       "<div>\n",
       "<style scoped>\n",
       "    .dataframe tbody tr th:only-of-type {\n",
       "        vertical-align: middle;\n",
       "    }\n",
       "\n",
       "    .dataframe tbody tr th {\n",
       "        vertical-align: top;\n",
       "    }\n",
       "\n",
       "    .dataframe thead th {\n",
       "        text-align: right;\n",
       "    }\n",
       "</style>\n",
       "<table border=\"1\" class=\"dataframe\">\n",
       "  <thead>\n",
       "    <tr style=\"text-align: right;\">\n",
       "      <th></th>\n",
       "      <th>Unnamed: 0</th>\n",
       "      <th>context_id</th>\n",
       "      <th>context_2</th>\n",
       "      <th>context_1</th>\n",
       "      <th>context_0</th>\n",
       "      <th>reply_id</th>\n",
       "      <th>reply</th>\n",
       "      <th>label</th>\n",
       "      <th>confidence</th>\n",
       "    </tr>\n",
       "  </thead>\n",
       "  <tbody>\n",
       "    <tr>\n",
       "      <th>0</th>\n",
       "      <td>0</td>\n",
       "      <td>22579918886</td>\n",
       "      <td>[654394, 1561605, 16734, 1554817, 306154, 1561...</td>\n",
       "      <td>[1830003, 1463197, 334254, 676100, 917832]</td>\n",
       "      <td>[1293580, 1463197, 1501890, 1000204]</td>\n",
       "      <td>0</td>\n",
       "      <td>[743031, 1101989]</td>\n",
       "      <td>[0, 0, 1]</td>\n",
       "      <td>0.875352</td>\n",
       "    </tr>\n",
       "    <tr>\n",
       "      <th>1</th>\n",
       "      <td>1</td>\n",
       "      <td>22579918886</td>\n",
       "      <td>[654394, 1561605, 16734, 1554817, 306154, 1561...</td>\n",
       "      <td>[1830003, 1463197, 334254, 676100, 917832]</td>\n",
       "      <td>[1293580, 1463197, 1501890, 1000204]</td>\n",
       "      <td>1</td>\n",
       "      <td>[1141967, 1463197, 1431000, 1100672, 334254]</td>\n",
       "      <td>[0, 1, 0]</td>\n",
       "      <td>0.900968</td>\n",
       "    </tr>\n",
       "    <tr>\n",
       "      <th>2</th>\n",
       "      <td>2</td>\n",
       "      <td>22579918886</td>\n",
       "      <td>[654394, 1561605, 16734, 1554817, 306154, 1561...</td>\n",
       "      <td>[1830003, 1463197, 334254, 676100, 917832]</td>\n",
       "      <td>[1293580, 1463197, 1501890, 1000204]</td>\n",
       "      <td>2</td>\n",
       "      <td>[1448996, 1463197, 334254, 743031, 1688119, 15...</td>\n",
       "      <td>[1, 0, 0]</td>\n",
       "      <td>0.884320</td>\n",
       "    </tr>\n",
       "    <tr>\n",
       "      <th>3</th>\n",
       "      <td>3</td>\n",
       "      <td>22579918886</td>\n",
       "      <td>[654394, 1561605, 16734, 1554817, 306154, 1561...</td>\n",
       "      <td>[1830003, 1463197, 334254, 676100, 917832]</td>\n",
       "      <td>[1293580, 1463197, 1501890, 1000204]</td>\n",
       "      <td>3</td>\n",
       "      <td>[334254, 743031, 1103971, 1431000]</td>\n",
       "      <td>[0, 0, 1]</td>\n",
       "      <td>0.982530</td>\n",
       "    </tr>\n",
       "    <tr>\n",
       "      <th>4</th>\n",
       "      <td>4</td>\n",
       "      <td>22579918886</td>\n",
       "      <td>[654394, 1561605, 16734, 1554817, 306154, 1561...</td>\n",
       "      <td>[1830003, 1463197, 334254, 676100, 917832]</td>\n",
       "      <td>[1293580, 1463197, 1501890, 1000204]</td>\n",
       "      <td>4</td>\n",
       "      <td>[334254, 355899, 1430584]</td>\n",
       "      <td>[0, 0, 1]</td>\n",
       "      <td>0.838054</td>\n",
       "    </tr>\n",
       "  </tbody>\n",
       "</table>\n",
       "</div>"
      ],
      "text/plain": [
       "   Unnamed: 0   context_id                                          context_2  \\\n",
       "0           0  22579918886  [654394, 1561605, 16734, 1554817, 306154, 1561...   \n",
       "1           1  22579918886  [654394, 1561605, 16734, 1554817, 306154, 1561...   \n",
       "2           2  22579918886  [654394, 1561605, 16734, 1554817, 306154, 1561...   \n",
       "3           3  22579918886  [654394, 1561605, 16734, 1554817, 306154, 1561...   \n",
       "4           4  22579918886  [654394, 1561605, 16734, 1554817, 306154, 1561...   \n",
       "\n",
       "                                    context_1  \\\n",
       "0  [1830003, 1463197, 334254, 676100, 917832]   \n",
       "1  [1830003, 1463197, 334254, 676100, 917832]   \n",
       "2  [1830003, 1463197, 334254, 676100, 917832]   \n",
       "3  [1830003, 1463197, 334254, 676100, 917832]   \n",
       "4  [1830003, 1463197, 334254, 676100, 917832]   \n",
       "\n",
       "                              context_0  reply_id  \\\n",
       "0  [1293580, 1463197, 1501890, 1000204]         0   \n",
       "1  [1293580, 1463197, 1501890, 1000204]         1   \n",
       "2  [1293580, 1463197, 1501890, 1000204]         2   \n",
       "3  [1293580, 1463197, 1501890, 1000204]         3   \n",
       "4  [1293580, 1463197, 1501890, 1000204]         4   \n",
       "\n",
       "                                               reply      label  confidence  \n",
       "0                                  [743031, 1101989]  [0, 0, 1]    0.875352  \n",
       "1       [1141967, 1463197, 1431000, 1100672, 334254]  [0, 1, 0]    0.900968  \n",
       "2  [1448996, 1463197, 334254, 743031, 1688119, 15...  [1, 0, 0]    0.884320  \n",
       "3                 [334254, 743031, 1103971, 1431000]  [0, 0, 1]    0.982530  \n",
       "4                          [334254, 355899, 1430584]  [0, 0, 1]    0.838054  "
      ]
     },
     "execution_count": 34,
     "metadata": {},
     "output_type": "execute_result"
    }
   ],
   "source": [
    "train.head()"
   ]
  },
  {
   "cell_type": "code",
   "execution_count": 35,
   "metadata": {},
   "outputs": [],
   "source": [
    "sentence = literal_eval(train.context_2[0])"
   ]
  },
  {
   "cell_type": "code",
   "execution_count": 36,
   "metadata": {},
   "outputs": [
    {
     "data": {
      "text/plain": [
       "[654394,\n",
       " 1561605,\n",
       " 16734,\n",
       " 1554817,\n",
       " 306154,\n",
       " 1561605,\n",
       " 1636421,\n",
       " 1134945,\n",
       " 36509,\n",
       " 1098780,\n",
       " 493496,\n",
       " 1134945]"
      ]
     },
     "execution_count": 36,
     "metadata": {},
     "output_type": "execute_result"
    }
   ],
   "source": [
    "sentence"
   ]
  },
  {
   "cell_type": "code",
   "execution_count": 37,
   "metadata": {},
   "outputs": [],
   "source": [
    "number_of_lines = sum(1 for line in open('../../data/vocab.txt'))"
   ]
  },
  {
   "cell_type": "code",
   "execution_count": 38,
   "metadata": {},
   "outputs": [
    {
     "data": {
      "text/plain": [
       "1864671"
      ]
     },
     "execution_count": 38,
     "metadata": {},
     "output_type": "execute_result"
    }
   ],
   "source": [
    "number_of_lines"
   ]
  },
  {
   "cell_type": "code",
   "execution_count": 39,
   "metadata": {},
   "outputs": [
    {
     "name": "stdout",
     "output_type": "stream",
     "text": [
      "12\n"
     ]
    }
   ],
   "source": [
    "max_len = len(sentence)\n",
    "print (max_len)"
   ]
  },
  {
   "cell_type": "markdown",
   "metadata": {},
   "source": [
    "# Embedding_attempt"
   ]
  },
  {
   "cell_type": "code",
   "execution_count": 41,
   "metadata": {},
   "outputs": [],
   "source": [
    "input_vector = tf.placeholder('int32',shape=(None,))"
   ]
  },
  {
   "cell_type": "code",
   "execution_count": 43,
   "metadata": {},
   "outputs": [],
   "source": [
    "pretrained_embeddings = get_trimmed_glove_vectors(\"../../data/embedding_vectors.npy.npz\")"
   ]
  },
  {
   "cell_type": "code",
   "execution_count": 42,
   "metadata": {},
   "outputs": [],
   "source": [
    "_word_embeddings = tf.placeholder(dtype=tf.float32,\n",
    "                                 shape=(1864671, 300))\n",
    "word_embeddings = tf.Variable(_word_embeddings)\n",
    "lookup_table = tf.nn.embedding_lookup(word_embeddings, input_vector)"
   ]
  },
  {
   "cell_type": "code",
   "execution_count": 45,
   "metadata": {},
   "outputs": [],
   "source": [
    "embedded_sentence = lookup_table.eval({word_embeddings:pretrained_embeddings, input_vector:sentence})"
   ]
  },
  {
   "cell_type": "code",
   "execution_count": 46,
   "metadata": {},
   "outputs": [
    {
     "data": {
      "text/plain": [
       "array([[-0.27099001,  0.0038703 ,  0.29203001, ...,  0.30803001,\n",
       "        -0.31979001, -0.014068  ],\n",
       "       [ 0.52195001,  0.012519  , -0.23693   , ...,  0.079786  ,\n",
       "        -0.13312   ,  0.15352   ],\n",
       "       [ 0.33581999, -0.018048  ,  0.054759  , ...,  0.65539002,\n",
       "         0.1096    ,  0.22796001],\n",
       "       ..., \n",
       "       [-0.25742999, -0.18020999, -0.30884999, ..., -0.13552999,\n",
       "        -0.10224   ,  0.17727999],\n",
       "       [ 0.025241  ,  0.33236   ,  0.39745   , ..., -0.35383001,\n",
       "        -0.21622001,  0.033836  ],\n",
       "       [-0.047718  ,  0.39737001,  0.024763  , ...,  0.20096999,\n",
       "        -0.17502999,  0.055658  ]], dtype=float32)"
      ]
     },
     "execution_count": 46,
     "metadata": {},
     "output_type": "execute_result"
    }
   ],
   "source": [
    "embedded_sentence"
   ]
  },
  {
   "cell_type": "code",
   "execution_count": 47,
   "metadata": {},
   "outputs": [
    {
     "data": {
      "text/plain": [
       "(12, 300)"
      ]
     },
     "execution_count": 47,
     "metadata": {},
     "output_type": "execute_result"
    }
   ],
   "source": [
    "embedded_sentence.shape"
   ]
  },
  {
   "cell_type": "code",
   "execution_count": null,
   "metadata": {},
   "outputs": [],
   "source": []
  }
 ],
 "metadata": {
  "kernelspec": {
   "display_name": "tensorflow",
   "language": "python",
   "name": "tensorflow"
  },
  "language_info": {
   "codemirror_mode": {
    "name": "ipython",
    "version": 3
   },
   "file_extension": ".py",
   "mimetype": "text/x-python",
   "name": "python",
   "nbconvert_exporter": "python",
   "pygments_lexer": "ipython3",
   "version": "3.5.2"
  }
 },
 "nbformat": 4,
 "nbformat_minor": 2
}
