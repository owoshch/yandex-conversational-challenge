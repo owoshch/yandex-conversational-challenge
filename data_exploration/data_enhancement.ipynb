{
 "cells": [
  {
   "cell_type": "code",
   "execution_count": 108,
   "metadata": {},
   "outputs": [],
   "source": [
    "import tensorflow as tf\n",
    "import numpy as np\n",
    "import pandas as pd\n",
    "import math"
   ]
  },
  {
   "cell_type": "code",
   "execution_count": 78,
   "metadata": {},
   "outputs": [],
   "source": [
    "from sklearn.preprocessing import OneHotEncoder"
   ]
  },
  {
   "cell_type": "code",
   "execution_count": 67,
   "metadata": {},
   "outputs": [],
   "source": [
    "UNK = \"$UNK$\"\n",
    "NUM = \"$NUM$\"\n",
    "NONE = \"O\"\n",
    "\n",
    "BEGIN = \"<s>\"\n",
    "END = \"</s>\""
   ]
  },
  {
   "cell_type": "code",
   "execution_count": 58,
   "metadata": {},
   "outputs": [],
   "source": [
    "def load_vocab(filename):\n",
    "    \"\"\"Loads vocab from a file\n",
    "\n",
    "    Args:\n",
    "        filename: (string) the format of the file must be one word per line.\n",
    "\n",
    "    Returns:\n",
    "        d: dict[word] = index\n",
    "\n",
    "    \"\"\"\n",
    "    try:\n",
    "        d = dict()\n",
    "        with open(filename) as f:\n",
    "            for idx, word in enumerate(f):\n",
    "                word = word.strip()\n",
    "                d[word] = idx\n",
    "\n",
    "    except IOError:\n",
    "        raise MyIOError(filename)\n",
    "    return d"
   ]
  },
  {
   "cell_type": "code",
   "execution_count": 68,
   "metadata": {},
   "outputs": [],
   "source": [
    "def get_processing_word(vocab_words=None, vocab_chars=None,\n",
    "                    lowercase=False, chars=False, allow_unk=True):\n",
    "    \"\"\"Return lambda function that transform a word (string) into list,\n",
    "    or tuple of (list, id) of int corresponding to the ids of the word and\n",
    "    its corresponding characters.\n",
    "\n",
    "    Args:\n",
    "        vocab: dict[word] = idx\n",
    "\n",
    "    Returns:\n",
    "        f(\"cat\") = ([12, 4, 32], 12345)\n",
    "                 = (list of char ids, word id)\n",
    "\n",
    "    \"\"\"\n",
    "    def f(word):\n",
    "        # 0. get chars of words\n",
    "        if vocab_chars is not None and chars == True:\n",
    "            char_ids = []\n",
    "            for char in word:\n",
    "                # ignore chars out of vocabulary\n",
    "                if char in vocab_chars:\n",
    "                    char_ids += [vocab_chars[char]]\n",
    "\n",
    "        # 1. preprocess word\n",
    "        if lowercase:\n",
    "            word = word.lower()\n",
    "        if word.isdigit():\n",
    "            word = NUM\n",
    "\n",
    "        # 2. get id of word\n",
    "        if vocab_words is not None:\n",
    "            if word in vocab_words:\n",
    "                word = vocab_words[word]\n",
    "            else:\n",
    "                if allow_unk:\n",
    "                    word = vocab_words[UNK]\n",
    "                else:\n",
    "                    raise Exception(\"Unknow key is not allowed. Check that \"\\\n",
    "                                    \"your vocab (tags?) is correct\")\n",
    "\n",
    "        # 3. return tuple char ids, word id\n",
    "        if vocab_chars is not None and chars == True:\n",
    "            return char_ids, word\n",
    "        else:\n",
    "            return word\n",
    "\n",
    "    return f\n"
   ]
  },
  {
   "cell_type": "code",
   "execution_count": 49,
   "metadata": {},
   "outputs": [],
   "source": [
    "PATH_TO_TRAIN = \"../../data/train.tsv\""
   ]
  },
  {
   "cell_type": "code",
   "execution_count": 50,
   "metadata": {},
   "outputs": [],
   "source": [
    "PATH_TO_TEST = \"../../data/public.tsv\""
   ]
  },
  {
   "cell_type": "code",
   "execution_count": 59,
   "metadata": {},
   "outputs": [],
   "source": [
    "PATH_TO_VOCAB = \"../../data/vocab.txt\""
   ]
  },
  {
   "cell_type": "code",
   "execution_count": 51,
   "metadata": {},
   "outputs": [],
   "source": [
    "train_column_names = ['context_id', 'context_2', 'context_1', \n",
    "                           'context_0', 'reply_id', 'reply', 'label', 'confidence']"
   ]
  },
  {
   "cell_type": "code",
   "execution_count": 148,
   "metadata": {},
   "outputs": [],
   "source": [
    "test_column_names = ['context_id', 'context_2', 'context_1', \n",
    "                           'context_0', 'reply_id', 'reply']"
   ]
  },
  {
   "cell_type": "code",
   "execution_count": 183,
   "metadata": {},
   "outputs": [
    {
     "name": "stderr",
     "output_type": "stream",
     "text": [
      "/Users/kitashov/anaconda/envs/tensorflow/lib/python3.5/site-packages/ipykernel_launcher.py:2: ParserWarning: Falling back to the 'python' engine because the 'c' engine does not support regex separators (separators > 1 char and different from '\\s+' are interpreted as regex); you can avoid this warning by specifying engine='python'.\n",
      "  \n"
     ]
    }
   ],
   "source": [
    "train = pd.read_csv(PATH_TO_TRAIN, error_bad_lines=False, sep = '[  . ? , !]?\\t', \n",
    "                   header=None)"
   ]
  },
  {
   "cell_type": "code",
   "execution_count": 184,
   "metadata": {},
   "outputs": [
    {
     "data": {
      "text/html": [
       "<div>\n",
       "<style scoped>\n",
       "    .dataframe tbody tr th:only-of-type {\n",
       "        vertical-align: middle;\n",
       "    }\n",
       "\n",
       "    .dataframe tbody tr th {\n",
       "        vertical-align: top;\n",
       "    }\n",
       "\n",
       "    .dataframe thead th {\n",
       "        text-align: right;\n",
       "    }\n",
       "</style>\n",
       "<table border=\"1\" class=\"dataframe\">\n",
       "  <thead>\n",
       "    <tr style=\"text-align: right;\">\n",
       "      <th></th>\n",
       "      <th>0</th>\n",
       "      <th>1</th>\n",
       "      <th>2</th>\n",
       "      <th>3</th>\n",
       "      <th>4</th>\n",
       "      <th>5</th>\n",
       "      <th>6</th>\n",
       "      <th>7</th>\n",
       "    </tr>\n",
       "  </thead>\n",
       "  <tbody>\n",
       "    <tr>\n",
       "      <th>0</th>\n",
       "      <td>22579918886</td>\n",
       "      <td>кликни на меня а потом на надпись \" видео - зв...</td>\n",
       "      <td>о , я тебя вижу</td>\n",
       "      <td>ладно , повесь трубку</td>\n",
       "      <td>0</td>\n",
       "      <td>не могу</td>\n",
       "      <td>good</td>\n",
       "      <td>0.875352</td>\n",
       "    </tr>\n",
       "    <tr>\n",
       "      <th>1</th>\n",
       "      <td>22579918886</td>\n",
       "      <td>кликни на меня а потом на надпись \" видео - зв...</td>\n",
       "      <td>о , я тебя вижу</td>\n",
       "      <td>ладно , повесь трубку</td>\n",
       "      <td>1</td>\n",
       "      <td>нет , звонить буду я</td>\n",
       "      <td>neutral</td>\n",
       "      <td>0.900968</td>\n",
       "    </tr>\n",
       "    <tr>\n",
       "      <th>2</th>\n",
       "      <td>22579918886</td>\n",
       "      <td>кликни на меня а потом на надпись \" видео - зв...</td>\n",
       "      <td>о , я тебя вижу</td>\n",
       "      <td>ладно , повесь трубку</td>\n",
       "      <td>2</td>\n",
       "      <td>слушай , я не мог уйти</td>\n",
       "      <td>bad</td>\n",
       "      <td>0.884320</td>\n",
       "    </tr>\n",
       "    <tr>\n",
       "      <th>3</th>\n",
       "      <td>22579918886</td>\n",
       "      <td>кликни на меня а потом на надпись \" видео - зв...</td>\n",
       "      <td>о , я тебя вижу</td>\n",
       "      <td>ладно , повесь трубку</td>\n",
       "      <td>3</td>\n",
       "      <td>я не прекращу звонить</td>\n",
       "      <td>good</td>\n",
       "      <td>0.982530</td>\n",
       "    </tr>\n",
       "    <tr>\n",
       "      <th>4</th>\n",
       "      <td>22579918886</td>\n",
       "      <td>кликни на меня а потом на надпись \" видео - зв...</td>\n",
       "      <td>о , я тебя вижу</td>\n",
       "      <td>ладно , повесь трубку</td>\n",
       "      <td>4</td>\n",
       "      <td>я звоню им</td>\n",
       "      <td>good</td>\n",
       "      <td>0.838054</td>\n",
       "    </tr>\n",
       "  </tbody>\n",
       "</table>\n",
       "</div>"
      ],
      "text/plain": [
       "             0                                                  1  \\\n",
       "0  22579918886  кликни на меня а потом на надпись \" видео - зв...   \n",
       "1  22579918886  кликни на меня а потом на надпись \" видео - зв...   \n",
       "2  22579918886  кликни на меня а потом на надпись \" видео - зв...   \n",
       "3  22579918886  кликни на меня а потом на надпись \" видео - зв...   \n",
       "4  22579918886  кликни на меня а потом на надпись \" видео - зв...   \n",
       "\n",
       "                  2                       3  4                        5  \\\n",
       "0  о , я тебя вижу   ладно , повесь трубку   0                 не могу    \n",
       "1  о , я тебя вижу   ладно , повесь трубку   1    нет , звонить буду я    \n",
       "2  о , я тебя вижу   ладно , повесь трубку   2  слушай , я не мог уйти    \n",
       "3  о , я тебя вижу   ладно , повесь трубку   3   я не прекращу звонить    \n",
       "4  о , я тебя вижу   ладно , повесь трубку   4              я звоню им    \n",
       "\n",
       "         6         7  \n",
       "0     good  0.875352  \n",
       "1  neutral  0.900968  \n",
       "2      bad  0.884320  \n",
       "3     good  0.982530  \n",
       "4     good  0.838054  "
      ]
     },
     "execution_count": 184,
     "metadata": {},
     "output_type": "execute_result"
    }
   ],
   "source": [
    "train.head()"
   ]
  },
  {
   "cell_type": "code",
   "execution_count": 185,
   "metadata": {},
   "outputs": [],
   "source": [
    "train.columns = train_column_names"
   ]
  },
  {
   "cell_type": "code",
   "execution_count": 186,
   "metadata": {},
   "outputs": [
    {
     "data": {
      "text/html": [
       "<div>\n",
       "<style scoped>\n",
       "    .dataframe tbody tr th:only-of-type {\n",
       "        vertical-align: middle;\n",
       "    }\n",
       "\n",
       "    .dataframe tbody tr th {\n",
       "        vertical-align: top;\n",
       "    }\n",
       "\n",
       "    .dataframe thead th {\n",
       "        text-align: right;\n",
       "    }\n",
       "</style>\n",
       "<table border=\"1\" class=\"dataframe\">\n",
       "  <thead>\n",
       "    <tr style=\"text-align: right;\">\n",
       "      <th></th>\n",
       "      <th>context_id</th>\n",
       "      <th>context_2</th>\n",
       "      <th>context_1</th>\n",
       "      <th>context_0</th>\n",
       "      <th>reply_id</th>\n",
       "      <th>reply</th>\n",
       "      <th>label</th>\n",
       "      <th>confidence</th>\n",
       "    </tr>\n",
       "  </thead>\n",
       "  <tbody>\n",
       "    <tr>\n",
       "      <th>0</th>\n",
       "      <td>22579918886</td>\n",
       "      <td>кликни на меня а потом на надпись \" видео - зв...</td>\n",
       "      <td>о , я тебя вижу</td>\n",
       "      <td>ладно , повесь трубку</td>\n",
       "      <td>0</td>\n",
       "      <td>не могу</td>\n",
       "      <td>good</td>\n",
       "      <td>0.875352</td>\n",
       "    </tr>\n",
       "    <tr>\n",
       "      <th>1</th>\n",
       "      <td>22579918886</td>\n",
       "      <td>кликни на меня а потом на надпись \" видео - зв...</td>\n",
       "      <td>о , я тебя вижу</td>\n",
       "      <td>ладно , повесь трубку</td>\n",
       "      <td>1</td>\n",
       "      <td>нет , звонить буду я</td>\n",
       "      <td>neutral</td>\n",
       "      <td>0.900968</td>\n",
       "    </tr>\n",
       "    <tr>\n",
       "      <th>2</th>\n",
       "      <td>22579918886</td>\n",
       "      <td>кликни на меня а потом на надпись \" видео - зв...</td>\n",
       "      <td>о , я тебя вижу</td>\n",
       "      <td>ладно , повесь трубку</td>\n",
       "      <td>2</td>\n",
       "      <td>слушай , я не мог уйти</td>\n",
       "      <td>bad</td>\n",
       "      <td>0.884320</td>\n",
       "    </tr>\n",
       "    <tr>\n",
       "      <th>3</th>\n",
       "      <td>22579918886</td>\n",
       "      <td>кликни на меня а потом на надпись \" видео - зв...</td>\n",
       "      <td>о , я тебя вижу</td>\n",
       "      <td>ладно , повесь трубку</td>\n",
       "      <td>3</td>\n",
       "      <td>я не прекращу звонить</td>\n",
       "      <td>good</td>\n",
       "      <td>0.982530</td>\n",
       "    </tr>\n",
       "    <tr>\n",
       "      <th>4</th>\n",
       "      <td>22579918886</td>\n",
       "      <td>кликни на меня а потом на надпись \" видео - зв...</td>\n",
       "      <td>о , я тебя вижу</td>\n",
       "      <td>ладно , повесь трубку</td>\n",
       "      <td>4</td>\n",
       "      <td>я звоню им</td>\n",
       "      <td>good</td>\n",
       "      <td>0.838054</td>\n",
       "    </tr>\n",
       "  </tbody>\n",
       "</table>\n",
       "</div>"
      ],
      "text/plain": [
       "    context_id                                          context_2  \\\n",
       "0  22579918886  кликни на меня а потом на надпись \" видео - зв...   \n",
       "1  22579918886  кликни на меня а потом на надпись \" видео - зв...   \n",
       "2  22579918886  кликни на меня а потом на надпись \" видео - зв...   \n",
       "3  22579918886  кликни на меня а потом на надпись \" видео - зв...   \n",
       "4  22579918886  кликни на меня а потом на надпись \" видео - зв...   \n",
       "\n",
       "          context_1               context_0  reply_id  \\\n",
       "0  о , я тебя вижу   ладно , повесь трубку          0   \n",
       "1  о , я тебя вижу   ладно , повесь трубку          1   \n",
       "2  о , я тебя вижу   ладно , повесь трубку          2   \n",
       "3  о , я тебя вижу   ладно , повесь трубку          3   \n",
       "4  о , я тебя вижу   ладно , повесь трубку          4   \n",
       "\n",
       "                     reply    label  confidence  \n",
       "0                 не могу      good    0.875352  \n",
       "1    нет , звонить буду я   neutral    0.900968  \n",
       "2  слушай , я не мог уйти       bad    0.884320  \n",
       "3   я не прекращу звонить      good    0.982530  \n",
       "4              я звоню им      good    0.838054  "
      ]
     },
     "execution_count": 186,
     "metadata": {},
     "output_type": "execute_result"
    }
   ],
   "source": [
    "train.head()"
   ]
  },
  {
   "cell_type": "markdown",
   "metadata": {},
   "source": [
    "# Sentences to indices"
   ]
  },
  {
   "cell_type": "code",
   "execution_count": 187,
   "metadata": {},
   "outputs": [],
   "source": [
    "vocab = load_vocab(PATH_TO_VOCAB)"
   ]
  },
  {
   "cell_type": "code",
   "execution_count": 188,
   "metadata": {},
   "outputs": [],
   "source": [
    "def sentence_to_indices(sentence, preprocess_word=get_processing_word(vocab_words=vocab)):\n",
    "    try:\n",
    "        sentence = [preprocess_word(word) for word in sentence.split()]\n",
    "    except AttributeError:\n",
    "        sentence = [preprocess_word(str(word))]\n",
    "    return sentence"
   ]
  },
  {
   "cell_type": "code",
   "execution_count": 191,
   "metadata": {},
   "outputs": [
    {
     "data": {
      "text/plain": [
       "[773239]"
      ]
     },
     "execution_count": 191,
     "metadata": {},
     "output_type": "execute_result"
    }
   ],
   "source": [
    "sentence_to_indeces('кстати')"
   ]
  },
  {
   "cell_type": "code",
   "execution_count": 181,
   "metadata": {},
   "outputs": [],
   "source": [
    "train['context_2'] = train['context_2'].apply(lambda x: sentence_to_indices(x))"
   ]
  },
  {
   "cell_type": "code",
   "execution_count": 182,
   "metadata": {},
   "outputs": [],
   "source": [
    "train['context_1'] = train['context_1'].apply(lambda x: sentence_to_indices(x))"
   ]
  },
  {
   "cell_type": "code",
   "execution_count": 157,
   "metadata": {},
   "outputs": [],
   "source": [
    "train['context_0'] = train['context_0'].apply(lambda x: sentence_to_indices(x))"
   ]
  },
  {
   "cell_type": "code",
   "execution_count": 158,
   "metadata": {},
   "outputs": [],
   "source": [
    "train['reply'] = train['reply'].apply(lambda x: sentence_to_indices(x))"
   ]
  },
  {
   "cell_type": "code",
   "execution_count": 159,
   "metadata": {},
   "outputs": [
    {
     "data": {
      "text/html": [
       "<div>\n",
       "<style scoped>\n",
       "    .dataframe tbody tr th:only-of-type {\n",
       "        vertical-align: middle;\n",
       "    }\n",
       "\n",
       "    .dataframe tbody tr th {\n",
       "        vertical-align: top;\n",
       "    }\n",
       "\n",
       "    .dataframe thead th {\n",
       "        text-align: right;\n",
       "    }\n",
       "</style>\n",
       "<table border=\"1\" class=\"dataframe\">\n",
       "  <thead>\n",
       "    <tr style=\"text-align: right;\">\n",
       "      <th></th>\n",
       "      <th>context_id</th>\n",
       "      <th>context_2</th>\n",
       "      <th>context_1</th>\n",
       "      <th>context_0</th>\n",
       "      <th>reply_id</th>\n",
       "      <th>reply</th>\n",
       "      <th>label</th>\n",
       "      <th>confidence</th>\n",
       "    </tr>\n",
       "  </thead>\n",
       "  <tbody>\n",
       "    <tr>\n",
       "      <th>0</th>\n",
       "      <td>22579918886</td>\n",
       "      <td>[654394, 1561605, 16734, 1554817, 306154, 1561...</td>\n",
       "      <td>[1830003, 1463197, 334254, 676100, 917832]</td>\n",
       "      <td>[1293580, 1463197, 1501890, 1000204]</td>\n",
       "      <td>0</td>\n",
       "      <td>[743031, 1101989]</td>\n",
       "      <td>good</td>\n",
       "      <td>0.875352</td>\n",
       "    </tr>\n",
       "    <tr>\n",
       "      <th>1</th>\n",
       "      <td>22579918886</td>\n",
       "      <td>[654394, 1561605, 16734, 1554817, 306154, 1561...</td>\n",
       "      <td>[1830003, 1463197, 334254, 676100, 917832]</td>\n",
       "      <td>[1293580, 1463197, 1501890, 1000204]</td>\n",
       "      <td>1</td>\n",
       "      <td>[1141967, 1463197, 1431000, 1100672, 334254]</td>\n",
       "      <td>neutral</td>\n",
       "      <td>0.900968</td>\n",
       "    </tr>\n",
       "    <tr>\n",
       "      <th>2</th>\n",
       "      <td>22579918886</td>\n",
       "      <td>[654394, 1561605, 16734, 1554817, 306154, 1561...</td>\n",
       "      <td>[1830003, 1463197, 334254, 676100, 917832]</td>\n",
       "      <td>[1293580, 1463197, 1501890, 1000204]</td>\n",
       "      <td>2</td>\n",
       "      <td>[1448996, 1463197, 334254, 743031, 1688119, 15...</td>\n",
       "      <td>bad</td>\n",
       "      <td>0.884320</td>\n",
       "    </tr>\n",
       "    <tr>\n",
       "      <th>3</th>\n",
       "      <td>22579918886</td>\n",
       "      <td>[654394, 1561605, 16734, 1554817, 306154, 1561...</td>\n",
       "      <td>[1830003, 1463197, 334254, 676100, 917832]</td>\n",
       "      <td>[1293580, 1463197, 1501890, 1000204]</td>\n",
       "      <td>3</td>\n",
       "      <td>[334254, 743031, 1103971, 1431000]</td>\n",
       "      <td>good</td>\n",
       "      <td>0.982530</td>\n",
       "    </tr>\n",
       "    <tr>\n",
       "      <th>4</th>\n",
       "      <td>22579918886</td>\n",
       "      <td>[654394, 1561605, 16734, 1554817, 306154, 1561...</td>\n",
       "      <td>[1830003, 1463197, 334254, 676100, 917832]</td>\n",
       "      <td>[1293580, 1463197, 1501890, 1000204]</td>\n",
       "      <td>4</td>\n",
       "      <td>[334254, 355899, 1430584]</td>\n",
       "      <td>good</td>\n",
       "      <td>0.838054</td>\n",
       "    </tr>\n",
       "  </tbody>\n",
       "</table>\n",
       "</div>"
      ],
      "text/plain": [
       "    context_id                                          context_2  \\\n",
       "0  22579918886  [654394, 1561605, 16734, 1554817, 306154, 1561...   \n",
       "1  22579918886  [654394, 1561605, 16734, 1554817, 306154, 1561...   \n",
       "2  22579918886  [654394, 1561605, 16734, 1554817, 306154, 1561...   \n",
       "3  22579918886  [654394, 1561605, 16734, 1554817, 306154, 1561...   \n",
       "4  22579918886  [654394, 1561605, 16734, 1554817, 306154, 1561...   \n",
       "\n",
       "                                    context_1  \\\n",
       "0  [1830003, 1463197, 334254, 676100, 917832]   \n",
       "1  [1830003, 1463197, 334254, 676100, 917832]   \n",
       "2  [1830003, 1463197, 334254, 676100, 917832]   \n",
       "3  [1830003, 1463197, 334254, 676100, 917832]   \n",
       "4  [1830003, 1463197, 334254, 676100, 917832]   \n",
       "\n",
       "                              context_0  reply_id  \\\n",
       "0  [1293580, 1463197, 1501890, 1000204]         0   \n",
       "1  [1293580, 1463197, 1501890, 1000204]         1   \n",
       "2  [1293580, 1463197, 1501890, 1000204]         2   \n",
       "3  [1293580, 1463197, 1501890, 1000204]         3   \n",
       "4  [1293580, 1463197, 1501890, 1000204]         4   \n",
       "\n",
       "                                               reply    label  confidence  \n",
       "0                                  [743031, 1101989]     good    0.875352  \n",
       "1       [1141967, 1463197, 1431000, 1100672, 334254]  neutral    0.900968  \n",
       "2  [1448996, 1463197, 334254, 743031, 1688119, 15...      bad    0.884320  \n",
       "3                 [334254, 743031, 1103971, 1431000]     good    0.982530  \n",
       "4                          [334254, 355899, 1430584]     good    0.838054  "
      ]
     },
     "execution_count": 159,
     "metadata": {},
     "output_type": "execute_result"
    }
   ],
   "source": [
    "train.head()"
   ]
  },
  {
   "cell_type": "markdown",
   "metadata": {},
   "source": [
    "## One-hot encoding"
   ]
  },
  {
   "cell_type": "code",
   "execution_count": 160,
   "metadata": {},
   "outputs": [],
   "source": [
    "d = {\"good\": [0, 0, 1], \"neutral\": [0, 1, 0], \"bad\": [1, 0, 0]}"
   ]
  },
  {
   "cell_type": "code",
   "execution_count": 161,
   "metadata": {},
   "outputs": [],
   "source": [
    "train.label = train.label.apply(lambda x: d[x])"
   ]
  },
  {
   "cell_type": "code",
   "execution_count": 162,
   "metadata": {},
   "outputs": [
    {
     "data": {
      "text/html": [
       "<div>\n",
       "<style scoped>\n",
       "    .dataframe tbody tr th:only-of-type {\n",
       "        vertical-align: middle;\n",
       "    }\n",
       "\n",
       "    .dataframe tbody tr th {\n",
       "        vertical-align: top;\n",
       "    }\n",
       "\n",
       "    .dataframe thead th {\n",
       "        text-align: right;\n",
       "    }\n",
       "</style>\n",
       "<table border=\"1\" class=\"dataframe\">\n",
       "  <thead>\n",
       "    <tr style=\"text-align: right;\">\n",
       "      <th></th>\n",
       "      <th>context_id</th>\n",
       "      <th>context_2</th>\n",
       "      <th>context_1</th>\n",
       "      <th>context_0</th>\n",
       "      <th>reply_id</th>\n",
       "      <th>reply</th>\n",
       "      <th>label</th>\n",
       "      <th>confidence</th>\n",
       "    </tr>\n",
       "  </thead>\n",
       "  <tbody>\n",
       "    <tr>\n",
       "      <th>0</th>\n",
       "      <td>22579918886</td>\n",
       "      <td>[654394, 1561605, 16734, 1554817, 306154, 1561...</td>\n",
       "      <td>[1830003, 1463197, 334254, 676100, 917832]</td>\n",
       "      <td>[1293580, 1463197, 1501890, 1000204]</td>\n",
       "      <td>0</td>\n",
       "      <td>[743031, 1101989]</td>\n",
       "      <td>[0, 0, 1]</td>\n",
       "      <td>0.875352</td>\n",
       "    </tr>\n",
       "    <tr>\n",
       "      <th>1</th>\n",
       "      <td>22579918886</td>\n",
       "      <td>[654394, 1561605, 16734, 1554817, 306154, 1561...</td>\n",
       "      <td>[1830003, 1463197, 334254, 676100, 917832]</td>\n",
       "      <td>[1293580, 1463197, 1501890, 1000204]</td>\n",
       "      <td>1</td>\n",
       "      <td>[1141967, 1463197, 1431000, 1100672, 334254]</td>\n",
       "      <td>[0, 1, 0]</td>\n",
       "      <td>0.900968</td>\n",
       "    </tr>\n",
       "    <tr>\n",
       "      <th>2</th>\n",
       "      <td>22579918886</td>\n",
       "      <td>[654394, 1561605, 16734, 1554817, 306154, 1561...</td>\n",
       "      <td>[1830003, 1463197, 334254, 676100, 917832]</td>\n",
       "      <td>[1293580, 1463197, 1501890, 1000204]</td>\n",
       "      <td>2</td>\n",
       "      <td>[1448996, 1463197, 334254, 743031, 1688119, 15...</td>\n",
       "      <td>[1, 0, 0]</td>\n",
       "      <td>0.884320</td>\n",
       "    </tr>\n",
       "    <tr>\n",
       "      <th>3</th>\n",
       "      <td>22579918886</td>\n",
       "      <td>[654394, 1561605, 16734, 1554817, 306154, 1561...</td>\n",
       "      <td>[1830003, 1463197, 334254, 676100, 917832]</td>\n",
       "      <td>[1293580, 1463197, 1501890, 1000204]</td>\n",
       "      <td>3</td>\n",
       "      <td>[334254, 743031, 1103971, 1431000]</td>\n",
       "      <td>[0, 0, 1]</td>\n",
       "      <td>0.982530</td>\n",
       "    </tr>\n",
       "    <tr>\n",
       "      <th>4</th>\n",
       "      <td>22579918886</td>\n",
       "      <td>[654394, 1561605, 16734, 1554817, 306154, 1561...</td>\n",
       "      <td>[1830003, 1463197, 334254, 676100, 917832]</td>\n",
       "      <td>[1293580, 1463197, 1501890, 1000204]</td>\n",
       "      <td>4</td>\n",
       "      <td>[334254, 355899, 1430584]</td>\n",
       "      <td>[0, 0, 1]</td>\n",
       "      <td>0.838054</td>\n",
       "    </tr>\n",
       "  </tbody>\n",
       "</table>\n",
       "</div>"
      ],
      "text/plain": [
       "    context_id                                          context_2  \\\n",
       "0  22579918886  [654394, 1561605, 16734, 1554817, 306154, 1561...   \n",
       "1  22579918886  [654394, 1561605, 16734, 1554817, 306154, 1561...   \n",
       "2  22579918886  [654394, 1561605, 16734, 1554817, 306154, 1561...   \n",
       "3  22579918886  [654394, 1561605, 16734, 1554817, 306154, 1561...   \n",
       "4  22579918886  [654394, 1561605, 16734, 1554817, 306154, 1561...   \n",
       "\n",
       "                                    context_1  \\\n",
       "0  [1830003, 1463197, 334254, 676100, 917832]   \n",
       "1  [1830003, 1463197, 334254, 676100, 917832]   \n",
       "2  [1830003, 1463197, 334254, 676100, 917832]   \n",
       "3  [1830003, 1463197, 334254, 676100, 917832]   \n",
       "4  [1830003, 1463197, 334254, 676100, 917832]   \n",
       "\n",
       "                              context_0  reply_id  \\\n",
       "0  [1293580, 1463197, 1501890, 1000204]         0   \n",
       "1  [1293580, 1463197, 1501890, 1000204]         1   \n",
       "2  [1293580, 1463197, 1501890, 1000204]         2   \n",
       "3  [1293580, 1463197, 1501890, 1000204]         3   \n",
       "4  [1293580, 1463197, 1501890, 1000204]         4   \n",
       "\n",
       "                                               reply      label  confidence  \n",
       "0                                  [743031, 1101989]  [0, 0, 1]    0.875352  \n",
       "1       [1141967, 1463197, 1431000, 1100672, 334254]  [0, 1, 0]    0.900968  \n",
       "2  [1448996, 1463197, 334254, 743031, 1688119, 15...  [1, 0, 0]    0.884320  \n",
       "3                 [334254, 743031, 1103971, 1431000]  [0, 0, 1]    0.982530  \n",
       "4                          [334254, 355899, 1430584]  [0, 0, 1]    0.838054  "
      ]
     },
     "execution_count": 162,
     "metadata": {},
     "output_type": "execute_result"
    }
   ],
   "source": [
    "train.head()"
   ]
  },
  {
   "cell_type": "code",
   "execution_count": 163,
   "metadata": {},
   "outputs": [],
   "source": [
    "train.to_csv(\"../../data/train_preprocesses.csv\")"
   ]
  },
  {
   "cell_type": "markdown",
   "metadata": {},
   "source": [
    "## Preprocess test"
   ]
  },
  {
   "cell_type": "code",
   "execution_count": 164,
   "metadata": {},
   "outputs": [
    {
     "name": "stderr",
     "output_type": "stream",
     "text": [
      "/Users/kitashov/anaconda/envs/tensorflow/lib/python3.5/site-packages/ipykernel_launcher.py:2: ParserWarning: Falling back to the 'python' engine because the 'c' engine does not support regex separators (separators > 1 char and different from '\\s+' are interpreted as regex); you can avoid this warning by specifying engine='python'.\n",
      "  \n"
     ]
    }
   ],
   "source": [
    "test = pd.read_csv(PATH_TO_TEST, error_bad_lines=False, sep = '[  . ? , !]?\\t', \n",
    "                   header=None)"
   ]
  },
  {
   "cell_type": "code",
   "execution_count": 165,
   "metadata": {},
   "outputs": [
    {
     "data": {
      "text/html": [
       "<div>\n",
       "<style scoped>\n",
       "    .dataframe tbody tr th:only-of-type {\n",
       "        vertical-align: middle;\n",
       "    }\n",
       "\n",
       "    .dataframe tbody tr th {\n",
       "        vertical-align: top;\n",
       "    }\n",
       "\n",
       "    .dataframe thead th {\n",
       "        text-align: right;\n",
       "    }\n",
       "</style>\n",
       "<table border=\"1\" class=\"dataframe\">\n",
       "  <thead>\n",
       "    <tr style=\"text-align: right;\">\n",
       "      <th></th>\n",
       "      <th>0</th>\n",
       "      <th>1</th>\n",
       "      <th>2</th>\n",
       "      <th>3</th>\n",
       "      <th>4</th>\n",
       "      <th>5</th>\n",
       "    </tr>\n",
       "  </thead>\n",
       "  <tbody>\n",
       "    <tr>\n",
       "      <th>0</th>\n",
       "      <td>138920940977</td>\n",
       "      <td>знаешь , я иногда подумываю , что тебе надо пр...</td>\n",
       "      <td>не - а</td>\n",
       "      <td>нет</td>\n",
       "      <td>0</td>\n",
       "      <td>неа .</td>\n",
       "    </tr>\n",
       "    <tr>\n",
       "      <th>1</th>\n",
       "      <td>138920940977</td>\n",
       "      <td>знаешь , я иногда подумываю , что тебе надо пр...</td>\n",
       "      <td>не - а</td>\n",
       "      <td>нет</td>\n",
       "      <td>1</td>\n",
       "      <td>нет , не хочу .</td>\n",
       "    </tr>\n",
       "    <tr>\n",
       "      <th>2</th>\n",
       "      <td>138920940977</td>\n",
       "      <td>знаешь , я иногда подумываю , что тебе надо пр...</td>\n",
       "      <td>не - а</td>\n",
       "      <td>нет</td>\n",
       "      <td>2</td>\n",
       "      <td>нет .</td>\n",
       "    </tr>\n",
       "    <tr>\n",
       "      <th>3</th>\n",
       "      <td>138920940977</td>\n",
       "      <td>знаешь , я иногда подумываю , что тебе надо пр...</td>\n",
       "      <td>не - а</td>\n",
       "      <td>нет</td>\n",
       "      <td>3</td>\n",
       "      <td>конечно , нет .</td>\n",
       "    </tr>\n",
       "    <tr>\n",
       "      <th>4</th>\n",
       "      <td>138920940977</td>\n",
       "      <td>знаешь , я иногда подумываю , что тебе надо пр...</td>\n",
       "      <td>не - а</td>\n",
       "      <td>нет</td>\n",
       "      <td>4</td>\n",
       "      <td>разумеется , нет .</td>\n",
       "    </tr>\n",
       "  </tbody>\n",
       "</table>\n",
       "</div>"
      ],
      "text/plain": [
       "              0                                                  1        2  \\\n",
       "0  138920940977  знаешь , я иногда подумываю , что тебе надо пр...  не - а    \n",
       "1  138920940977  знаешь , я иногда подумываю , что тебе надо пр...  не - а    \n",
       "2  138920940977  знаешь , я иногда подумываю , что тебе надо пр...  не - а    \n",
       "3  138920940977  знаешь , я иногда подумываю , что тебе надо пр...  не - а    \n",
       "4  138920940977  знаешь , я иногда подумываю , что тебе надо пр...  не - а    \n",
       "\n",
       "      3  4                   5  \n",
       "0  нет   0               неа .  \n",
       "1  нет   1     нет , не хочу .  \n",
       "2  нет   2               нет .  \n",
       "3  нет   3     конечно , нет .  \n",
       "4  нет   4  разумеется , нет .  "
      ]
     },
     "execution_count": 165,
     "metadata": {},
     "output_type": "execute_result"
    }
   ],
   "source": [
    "test.head()"
   ]
  },
  {
   "cell_type": "code",
   "execution_count": 166,
   "metadata": {},
   "outputs": [],
   "source": [
    "test.columns = test_column_names"
   ]
  },
  {
   "cell_type": "code",
   "execution_count": 167,
   "metadata": {},
   "outputs": [
    {
     "data": {
      "text/html": [
       "<div>\n",
       "<style scoped>\n",
       "    .dataframe tbody tr th:only-of-type {\n",
       "        vertical-align: middle;\n",
       "    }\n",
       "\n",
       "    .dataframe tbody tr th {\n",
       "        vertical-align: top;\n",
       "    }\n",
       "\n",
       "    .dataframe thead th {\n",
       "        text-align: right;\n",
       "    }\n",
       "</style>\n",
       "<table border=\"1\" class=\"dataframe\">\n",
       "  <thead>\n",
       "    <tr style=\"text-align: right;\">\n",
       "      <th></th>\n",
       "      <th>context_id</th>\n",
       "      <th>context_2</th>\n",
       "      <th>context_1</th>\n",
       "      <th>context_0</th>\n",
       "      <th>reply_id</th>\n",
       "      <th>reply</th>\n",
       "    </tr>\n",
       "  </thead>\n",
       "  <tbody>\n",
       "    <tr>\n",
       "      <th>0</th>\n",
       "      <td>138920940977</td>\n",
       "      <td>знаешь , я иногда подумываю , что тебе надо пр...</td>\n",
       "      <td>не - а</td>\n",
       "      <td>нет</td>\n",
       "      <td>0</td>\n",
       "      <td>неа .</td>\n",
       "    </tr>\n",
       "    <tr>\n",
       "      <th>1</th>\n",
       "      <td>138920940977</td>\n",
       "      <td>знаешь , я иногда подумываю , что тебе надо пр...</td>\n",
       "      <td>не - а</td>\n",
       "      <td>нет</td>\n",
       "      <td>1</td>\n",
       "      <td>нет , не хочу .</td>\n",
       "    </tr>\n",
       "    <tr>\n",
       "      <th>2</th>\n",
       "      <td>138920940977</td>\n",
       "      <td>знаешь , я иногда подумываю , что тебе надо пр...</td>\n",
       "      <td>не - а</td>\n",
       "      <td>нет</td>\n",
       "      <td>2</td>\n",
       "      <td>нет .</td>\n",
       "    </tr>\n",
       "    <tr>\n",
       "      <th>3</th>\n",
       "      <td>138920940977</td>\n",
       "      <td>знаешь , я иногда подумываю , что тебе надо пр...</td>\n",
       "      <td>не - а</td>\n",
       "      <td>нет</td>\n",
       "      <td>3</td>\n",
       "      <td>конечно , нет .</td>\n",
       "    </tr>\n",
       "    <tr>\n",
       "      <th>4</th>\n",
       "      <td>138920940977</td>\n",
       "      <td>знаешь , я иногда подумываю , что тебе надо пр...</td>\n",
       "      <td>не - а</td>\n",
       "      <td>нет</td>\n",
       "      <td>4</td>\n",
       "      <td>разумеется , нет .</td>\n",
       "    </tr>\n",
       "  </tbody>\n",
       "</table>\n",
       "</div>"
      ],
      "text/plain": [
       "     context_id                                          context_2 context_1  \\\n",
       "0  138920940977  знаешь , я иногда подумываю , что тебе надо пр...   не - а    \n",
       "1  138920940977  знаешь , я иногда подумываю , что тебе надо пр...   не - а    \n",
       "2  138920940977  знаешь , я иногда подумываю , что тебе надо пр...   не - а    \n",
       "3  138920940977  знаешь , я иногда подумываю , что тебе надо пр...   не - а    \n",
       "4  138920940977  знаешь , я иногда подумываю , что тебе надо пр...   не - а    \n",
       "\n",
       "  context_0  reply_id               reply  \n",
       "0      нет          0               неа .  \n",
       "1      нет          1     нет , не хочу .  \n",
       "2      нет          2               нет .  \n",
       "3      нет          3     конечно , нет .  \n",
       "4      нет          4  разумеется , нет .  "
      ]
     },
     "execution_count": 167,
     "metadata": {},
     "output_type": "execute_result"
    }
   ],
   "source": [
    "test.head()"
   ]
  },
  {
   "cell_type": "code",
   "execution_count": 168,
   "metadata": {},
   "outputs": [],
   "source": [
    "test['context_2'] = test['context_2'].apply(lambda x: sentence_to_indices(x))"
   ]
  },
  {
   "cell_type": "code",
   "execution_count": 169,
   "metadata": {},
   "outputs": [],
   "source": [
    "test['context_1'] = test['context_1'].apply(lambda x: sentence_to_indices(x))"
   ]
  },
  {
   "cell_type": "code",
   "execution_count": 170,
   "metadata": {},
   "outputs": [],
   "source": [
    "test['context_0'] = test['context_0'].apply(lambda x: sentence_to_indices(x))"
   ]
  },
  {
   "cell_type": "code",
   "execution_count": 172,
   "metadata": {},
   "outputs": [],
   "source": [
    "test['reply'] = test['reply'].apply(lambda x: sentence_to_indices(x))"
   ]
  },
  {
   "cell_type": "code",
   "execution_count": 173,
   "metadata": {},
   "outputs": [
    {
     "data": {
      "text/html": [
       "<div>\n",
       "<style scoped>\n",
       "    .dataframe tbody tr th:only-of-type {\n",
       "        vertical-align: middle;\n",
       "    }\n",
       "\n",
       "    .dataframe tbody tr th {\n",
       "        vertical-align: top;\n",
       "    }\n",
       "\n",
       "    .dataframe thead th {\n",
       "        text-align: right;\n",
       "    }\n",
       "</style>\n",
       "<table border=\"1\" class=\"dataframe\">\n",
       "  <thead>\n",
       "    <tr style=\"text-align: right;\">\n",
       "      <th></th>\n",
       "      <th>context_id</th>\n",
       "      <th>context_2</th>\n",
       "      <th>context_1</th>\n",
       "      <th>context_0</th>\n",
       "      <th>reply_id</th>\n",
       "      <th>reply</th>\n",
       "    </tr>\n",
       "  </thead>\n",
       "  <tbody>\n",
       "    <tr>\n",
       "      <th>0</th>\n",
       "      <td>138920940977</td>\n",
       "      <td>[1439102, 1463197, 334254, 430126, 1326602, 14...</td>\n",
       "      <td>[743031, 1098780, 1554817]</td>\n",
       "      <td>[1141967]</td>\n",
       "      <td>0</td>\n",
       "      <td>[1858020, 1564319]</td>\n",
       "    </tr>\n",
       "    <tr>\n",
       "      <th>1</th>\n",
       "      <td>138920940977</td>\n",
       "      <td>[1439102, 1463197, 334254, 430126, 1326602, 14...</td>\n",
       "      <td>[743031, 1098780, 1554817]</td>\n",
       "      <td>[1141967]</td>\n",
       "      <td>1</td>\n",
       "      <td>[1141967, 1463197, 743031, 110812, 1564319]</td>\n",
       "    </tr>\n",
       "    <tr>\n",
       "      <th>2</th>\n",
       "      <td>138920940977</td>\n",
       "      <td>[1439102, 1463197, 334254, 430126, 1326602, 14...</td>\n",
       "      <td>[743031, 1098780, 1554817]</td>\n",
       "      <td>[1141967]</td>\n",
       "      <td>2</td>\n",
       "      <td>[1141967, 1564319]</td>\n",
       "    </tr>\n",
       "    <tr>\n",
       "      <th>3</th>\n",
       "      <td>138920940977</td>\n",
       "      <td>[1439102, 1463197, 334254, 430126, 1326602, 14...</td>\n",
       "      <td>[743031, 1098780, 1554817]</td>\n",
       "      <td>[1141967]</td>\n",
       "      <td>3</td>\n",
       "      <td>[1372774, 1463197, 1141967, 1564319]</td>\n",
       "    </tr>\n",
       "    <tr>\n",
       "      <th>4</th>\n",
       "      <td>138920940977</td>\n",
       "      <td>[1439102, 1463197, 334254, 430126, 1326602, 14...</td>\n",
       "      <td>[743031, 1098780, 1554817]</td>\n",
       "      <td>[1141967]</td>\n",
       "      <td>4</td>\n",
       "      <td>[1411482, 1463197, 1141967, 1564319]</td>\n",
       "    </tr>\n",
       "  </tbody>\n",
       "</table>\n",
       "</div>"
      ],
      "text/plain": [
       "     context_id                                          context_2  \\\n",
       "0  138920940977  [1439102, 1463197, 334254, 430126, 1326602, 14...   \n",
       "1  138920940977  [1439102, 1463197, 334254, 430126, 1326602, 14...   \n",
       "2  138920940977  [1439102, 1463197, 334254, 430126, 1326602, 14...   \n",
       "3  138920940977  [1439102, 1463197, 334254, 430126, 1326602, 14...   \n",
       "4  138920940977  [1439102, 1463197, 334254, 430126, 1326602, 14...   \n",
       "\n",
       "                    context_1  context_0  reply_id  \\\n",
       "0  [743031, 1098780, 1554817]  [1141967]         0   \n",
       "1  [743031, 1098780, 1554817]  [1141967]         1   \n",
       "2  [743031, 1098780, 1554817]  [1141967]         2   \n",
       "3  [743031, 1098780, 1554817]  [1141967]         3   \n",
       "4  [743031, 1098780, 1554817]  [1141967]         4   \n",
       "\n",
       "                                         reply  \n",
       "0                           [1858020, 1564319]  \n",
       "1  [1141967, 1463197, 743031, 110812, 1564319]  \n",
       "2                           [1141967, 1564319]  \n",
       "3         [1372774, 1463197, 1141967, 1564319]  \n",
       "4         [1411482, 1463197, 1141967, 1564319]  "
      ]
     },
     "execution_count": 173,
     "metadata": {},
     "output_type": "execute_result"
    }
   ],
   "source": [
    "test.head()"
   ]
  },
  {
   "cell_type": "code",
   "execution_count": 174,
   "metadata": {},
   "outputs": [],
   "source": [
    "test.to_csv(\"../../data/public_preprocessed.csv\")"
   ]
  },
  {
   "cell_type": "code",
   "execution_count": null,
   "metadata": {},
   "outputs": [],
   "source": []
  }
 ],
 "metadata": {
  "kernelspec": {
   "display_name": "tensorflow",
   "language": "python",
   "name": "tensorflow"
  },
  "language_info": {
   "codemirror_mode": {
    "name": "ipython",
    "version": 3
   },
   "file_extension": ".py",
   "mimetype": "text/x-python",
   "name": "python",
   "nbconvert_exporter": "python",
   "pygments_lexer": "ipython3",
   "version": "3.5.2"
  }
 },
 "nbformat": 4,
 "nbformat_minor": 2
}
